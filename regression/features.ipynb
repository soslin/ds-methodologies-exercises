{
 "cells": [
  {
   "cell_type": "markdown",
   "metadata": {},
   "source": [
    "## 1. Write a function, select_kbest_freg() that takes X_train, y_train and k as input (X_train and y_train should not be scaled!) and returns a list of the top k features."
   ]
  },
  {
   "cell_type": "code",
   "execution_count": 1,
   "metadata": {},
   "outputs": [
    {
     "name": "stdout",
     "output_type": "stream",
     "text": [
      "<class 'pandas.core.frame.DataFrame'>\n",
      "RangeIndex: 1695 entries, 0 to 1694\n",
      "Data columns (total 4 columns):\n",
      "customer_id        1695 non-null object\n",
      "monthly_charges    1695 non-null float64\n",
      "tenure             1695 non-null int64\n",
      "total_charges      1695 non-null object\n",
      "dtypes: float64(1), int64(1), object(2)\n",
      "memory usage: 53.0+ KB\n",
      "<class 'pandas.core.frame.DataFrame'>\n",
      "Int64Index: 1685 entries, 0 to 1694\n",
      "Data columns (total 4 columns):\n",
      "customer_id        1685 non-null object\n",
      "monthly_charges    1685 non-null float64\n",
      "tenure             1685 non-null int64\n",
      "total_charges      1685 non-null object\n",
      "dtypes: float64(1), int64(1), object(2)\n",
      "memory usage: 65.8+ KB\n",
      "<class 'pandas.core.frame.DataFrame'>\n",
      "Int64Index: 1685 entries, 0 to 1694\n",
      "Data columns (total 4 columns):\n",
      "customer_id        1685 non-null object\n",
      "monthly_charges    1685 non-null float64\n",
      "tenure             1685 non-null int64\n",
      "total_charges      1685 non-null float64\n",
      "dtypes: float64(2), int64(1), object(1)\n",
      "memory usage: 65.8+ KB\n"
     ]
    }
   ],
   "source": [
    "import pandas as pd\n",
    "import numpy as np\n",
    "import matplotlib.pyplot as plt\n",
    "import seaborn as sns\n",
    "from sklearn.model_selection import train_test_split\n",
    "from sklearn.preprocessing import StandardScaler, MinMaxScaler\n",
    "import warnings\n",
    "warnings.filterwarnings(\"ignore\")\n",
    "\n",
    "import env\n",
    "import wrangle\n",
    "import split_scale\n",
    "from sklearn.feature_selection import SelectKBest, f_regression"
   ]
  },
  {
   "cell_type": "code",
   "execution_count": 2,
   "metadata": {},
   "outputs": [],
   "source": [
    "df = wrangle.wrangle_telco()\n",
    "X = df.drop(columns=['total_charges', 'customer_id'])\n",
    "y = pd.DataFrame(df.total_charges)\n",
    "\n",
    "\n",
    "x_train,x_test,y_train,y_test=split_scale.split_my_data(X,y)\n",
    "#X_train"
   ]
  },
  {
   "cell_type": "code",
   "execution_count": 3,
   "metadata": {},
   "outputs": [
    {
     "data": {
      "text/plain": [
       "['monthly_charges', 'tenure']"
      ]
     },
     "execution_count": 3,
     "metadata": {},
     "output_type": "execute_result"
    }
   ],
   "source": [
    "def select_kbest_freg(x_train, y_train, k):\n",
    "\n",
    "    f_selector = SelectKBest(f_regression, k)\n",
    "\n",
    "    f_selector.fit(x_train, y_train)\n",
    "\n",
    "    f_support = f_selector.get_support()\n",
    "    f_feature = x_train.loc[:,f_support].columns.tolist()\n",
    "    \n",
    "    return f_feature\n",
    "\n",
    "\n",
    "select_kbest_freg(x_train,y_train, 2)\n",
    "    #print(str(len(f_feature)), 'selected features')\n",
    "    #print(f_feature)\n",
    "  "
   ]
  },
  {
   "cell_type": "code",
   "execution_count": 4,
   "metadata": {},
   "outputs": [
    {
     "data": {
      "image/png": "[encoded data removed]",
      "text/plain": [
       "<Figure size 432x360 with 2 Axes>"
      ]
     },
     "metadata": {
      "needs_background": "light"
     },
     "output_type": "display_data"
    }
   ],
   "source": [
    "plt.figure(figsize=(6,5))\n",
    "cor = x_train.corr()\n",
    "sns.heatmap(cor, annot=True, cmap=plt.cm.Reds)\n",
    "plt.show()"
   ]
  },
  {
   "cell_type": "code",
   "execution_count": null,
   "metadata": {},
   "outputs": [],
   "source": []
  },
  {
   "cell_type": "markdown",
   "metadata": {},
   "source": [
    "## Write a function, select_kbest_freg() that takes X_train, y_train (scaled) and k as input and returns a list of the top k features."
   ]
  },
  {
   "cell_type": "code",
   "execution_count": 5,
   "metadata": {},
   "outputs": [],
   "source": [
    "train_x_scaled_data, test_x_scaled_data,scaler_x_train, scaler_x_test = split_scale.standard_scaler(x_train,x_test)"
   ]
  },
  {
   "cell_type": "code",
   "execution_count": null,
   "metadata": {},
   "outputs": [],
   "source": []
  },
  {
   "cell_type": "code",
   "execution_count": 6,
   "metadata": {},
   "outputs": [
    {
     "data": {
      "text/plain": [
       "['monthly_charges', 'tenure']"
      ]
     },
     "execution_count": 6,
     "metadata": {},
     "output_type": "execute_result"
    }
   ],
   "source": [
    "\n",
    "def select_kbest_freg(train_x_scaled_data, k):\n",
    "    f_selector = SelectKBest(f_regression, k)\n",
    "\n",
    "    f_selector.fit(x_train, y_train)\n",
    "\n",
    "    f_support = f_selector.get_support()\n",
    "    f_feature = x_train.loc[:,f_support].columns.tolist()\n",
    "    \n",
    "    return f_feature\n",
    "\n",
    "\n",
    "select_kbest_freg(train_x_scaled_data, 2)\n"
   ]
  },
  {
   "cell_type": "code",
   "execution_count": 7,
   "metadata": {},
   "outputs": [
    {
     "data": {
      "image/png": "[encoded data removed]",
      "text/plain": [
       "<Figure size 432x360 with 2 Axes>"
      ]
     },
     "metadata": {
      "needs_background": "light"
     },
     "output_type": "display_data"
    }
   ],
   "source": [
    "plt.figure(figsize=(6,5))\n",
    "cor = train_x_scaled_data.corr()\n",
    "sns.heatmap(cor, annot=True, cmap=plt.cm.Reds)\n",
    "plt.show()"
   ]
  },
  {
   "cell_type": "code",
   "execution_count": null,
   "metadata": {},
   "outputs": [],
   "source": []
  },
  {
   "cell_type": "markdown",
   "metadata": {},
   "source": [
    "## Write a function, ols_backware_elimination() that takes X_train and y_train (scaled) as input and returns selected features based on the ols backwards elimination method."
   ]
  },
  {
   "cell_type": "code",
   "execution_count": 8,
   "metadata": {},
   "outputs": [
    {
     "data": {
      "text/plain": [
       "['monthly_charges', 'tenure']"
      ]
     },
     "execution_count": 8,
     "metadata": {},
     "output_type": "execute_result"
    }
   ],
   "source": [
    "import statsmodels.api as sm\n",
    "\n",
    "def ols_backware_elimination(train_x_scaled_data):\n",
    "    cols = list(train_x_scaled_data.columns)\n",
    "    pmax = 1\n",
    "    while (len(cols)>0):\n",
    "        p= []\n",
    "        X_1 = train_x_scaled_data[cols]\n",
    "        model = sm.OLS(y_train,X_1).fit()\n",
    "        p = pd.Series(model.pvalues.values[:],index = cols)\n",
    "        pmax = max(p)\n",
    "        feature_with_p_max = p.idxmax()\n",
    "        if(pmax>0.05):\n",
    "            cols.remove(feature_with_p_max)\n",
    "        else:\n",
    "            break\n",
    "    selected_features_BE = cols\n",
    "    return selected_features_BE\n",
    "\n",
    "\n",
    "ols_backware_elimination (train_x_scaled_data)"
   ]
  },
  {
   "cell_type": "code",
   "execution_count": null,
   "metadata": {},
   "outputs": [],
   "source": []
  },
  {
   "cell_type": "markdown",
   "metadata": {},
   "source": [
    "## Write a function, lasso_cv_coef() that takes X_train and y_train as input and returns the coefficients for each feature, along with a plot of the features and their weights."
   ]
  },
  {
   "cell_type": "code",
   "execution_count": 9,
   "metadata": {},
   "outputs": [],
   "source": [
    "from sklearn.linear_model import LassoCV"
   ]
  },
  {
   "cell_type": "code",
   "execution_count": 10,
   "metadata": {},
   "outputs": [
    {
     "data": {
      "text/html": [
       "<div>\n",
       "<style scoped>\n",
       "    .dataframe tbody tr th:only-of-type {\n",
       "        vertical-align: middle;\n",
       "    }\n",
       "\n",
       "    .dataframe tbody tr th {\n",
       "        vertical-align: top;\n",
       "    }\n",
       "\n",
       "    .dataframe thead th {\n",
       "        text-align: right;\n",
       "    }\n",
       "</style>\n",
       "<table border=\"1\" class=\"dataframe\">\n",
       "  <thead>\n",
       "    <tr style=\"text-align: right;\">\n",
       "      <th></th>\n",
       "      <th>variable</th>\n",
       "      <th>coef</th>\n",
       "    </tr>\n",
       "  </thead>\n",
       "  <tbody>\n",
       "    <tr>\n",
       "      <th>0</th>\n",
       "      <td>monthly_charges</td>\n",
       "      <td>2127.303019</td>\n",
       "    </tr>\n",
       "    <tr>\n",
       "      <th>1</th>\n",
       "      <td>tenure</td>\n",
       "      <td>742.550633</td>\n",
       "    </tr>\n",
       "  </tbody>\n",
       "</table>\n",
       "</div>"
      ],
      "text/plain": [
       "          variable         coef\n",
       "0  monthly_charges  2127.303019\n",
       "1           tenure   742.550633"
      ]
     },
     "execution_count": 10,
     "metadata": {},
     "output_type": "execute_result"
    }
   ],
   "source": [
    "reg = LassoCV()\n",
    "def lasso_cv_coef(train_x_scaled_data):\n",
    "    reg.fit(train_x_scaled_data, y_train)\n",
    "    coef = pd.Series(reg.coef_, index = train_x_scaled_data.columns)\n",
    "    return coef\n",
    "df=lasso_cv_coef (train_x_scaled_data)\n",
    "df = pd.DataFrame(df).reset_index()\n",
    "df.rename(columns = {'index': 'variable', 0 : 'coef'}, inplace = True)\n",
    "df.head()"
   ]
  },
  {
   "cell_type": "code",
   "execution_count": 11,
   "metadata": {},
   "outputs": [
    {
     "data": {
      "image/png": "[encoded data removed]",
      "text/plain": [
       "<Figure size 432x360 with 1 Axes>"
      ]
     },
     "metadata": {
      "needs_background": "light"
     },
     "output_type": "display_data"
    }
   ],
   "source": [
    "plt.figure(figsize=(6,5))\n",
    "sns.barplot(x = 'variable', y = 'coef', data = df)\n",
    "plt.show()"
   ]
  },
  {
   "cell_type": "code",
   "execution_count": null,
   "metadata": {},
   "outputs": [],
   "source": []
  },
  {
   "cell_type": "markdown",
   "metadata": {},
   "source": [
    "## Write 3 functions, the first computes the number of optimum features (n) using rfe, the second takes n as input and returns the top n features, and the third takes the list of the top n features as input and returns a new X_train and X_test dataframe with those top features."
   ]
  },
  {
   "cell_type": "code",
   "execution_count": 12,
   "metadata": {},
   "outputs": [],
   "source": [
    "from sklearn.linear_model import LinearRegression\n",
    "from sklearn.feature_selection import RFE"
   ]
  },
  {
   "cell_type": "code",
   "execution_count": null,
   "metadata": {},
   "outputs": [],
   "source": []
  },
  {
   "cell_type": "code",
   "execution_count": 18,
   "metadata": {},
   "outputs": [
    {
     "name": "stdout",
     "output_type": "stream",
     "text": [
      "high score =  0.9612993080783484\n",
      "Optimum number of features: 2\n"
     ]
    }
   ],
   "source": [
    "def num_optimum_features(x_train, y_train):\n",
    "    number_of_features_list=np.arange(1,3)\n",
    "    high_score=0\n",
    "    number_of_features=0           \n",
    "    score_list =[]\n",
    "    for n in range(len(number_of_features_list)):\n",
    "        model = LinearRegression()\n",
    "        rfe = RFE(model,number_of_features_list[n])\n",
    "        x_train_rfe = rfe.fit_transform(x_train, y_train)\n",
    "        x_test_rfe = rfe.transform(x_test)\n",
    "        model.fit(x_train_rfe,y_train)\n",
    "        score = model.score(x_test_rfe, y_test)\n",
    "        score_list.append(score)\n",
    "        if(score>high_score):\n",
    "            high_score = score\n",
    "            number_of_features = number_of_features_list[n]\n",
    "    print('high score = ', high_score)\n",
    "    return number_of_features\n",
    "number_of_features = num_optimum_features (x_train, y_train)\n",
    "\n",
    "print(\"Optimum number of features: %d\" %number_of_features)\n"
   ]
  },
  {
   "cell_type": "code",
   "execution_count": 20,
   "metadata": {},
   "outputs": [
    {
     "name": "stdout",
     "output_type": "stream",
     "text": [
      "Index(['monthly_charges', 'tenure'], dtype='object')\n"
     ]
    }
   ],
   "source": [
    "def top_features(x_train, y_train):\n",
    "    cols = list(x_train.columns)\n",
    "    model = LinearRegression()\n",
    "\n",
    "    #Initializing RFE model\n",
    "    rfe = RFE(model, 2)\n",
    "\n",
    "    #Transforming data using RFE\n",
    "    x_rfe = rfe.fit_transform(x_train,y_train)  \n",
    "\n",
    "    #Fitting the data to model\n",
    "    model.fit(x_rfe,y_train)\n",
    "    temp = pd.Series(rfe.support_,index = cols)\n",
    "    selected_features_rfe = temp[temp==True].index\n",
    "    return selected_features_rfe\n",
    "\n",
    "selected_features_rfe = top_features(x_train, y_train)\n",
    "\n",
    "print(selected_features_rfe)"
   ]
  },
  {
   "cell_type": "code",
   "execution_count": 15,
   "metadata": {
    "scrolled": true
   },
   "outputs": [
    {
     "name": "stdout",
     "output_type": "stream",
     "text": [
      "      monthly_charges  tenure\n",
      "120             49.20      72\n",
      "1423            19.85       8\n",
      "389             89.40      72\n",
      "1136            26.10      67\n",
      "1503            25.30      66\n",
      "438             83.70      72\n",
      "571             80.25       6\n",
      "656            105.55      53\n",
      "753             99.65      60\n",
      "574             90.50      47\n",
      "1212            20.20      38\n",
      "1053            97.20      60\n",
      "1130            19.55      72\n",
      "1250            19.75      69\n",
      "1031           109.25      63\n",
      "772            111.30      71\n",
      "1402            25.10      72\n",
      "516             77.30      70\n",
      "1102            20.65      57\n",
      "1694            19.75      46\n",
      "1086            20.20      46\n",
      "1516            20.60      40\n",
      "133             72.95      68\n",
      "1036           105.40      64\n",
      "72              39.40      48\n",
      "551             79.10      71\n",
      "1024           113.65      71\n",
      "1431            20.10      35\n",
      "895            114.70      68\n",
      "1459            19.35      59\n",
      "...               ...     ...\n",
      "2               45.05      56\n",
      "456             40.55      13\n",
      "1097            24.15      72\n",
      "1238            19.95      46\n",
      "613             85.00      64\n",
      "425             85.75      71\n",
      "1285            25.25      40\n",
      "851            114.35      69\n",
      "1372            20.45      39\n",
      "1442            26.50      65\n",
      "112             78.95      72\n",
      "226             41.95      68\n",
      "947            118.75      72\n",
      "1578            20.60      59\n",
      "73              53.35      57\n",
      "47              75.50      70\n",
      "643            108.90      46\n",
      "114             84.80      70\n",
      "97              89.85      72\n",
      "1244            19.40      72\n",
      "1603            24.75      25\n",
      "1152            19.95      60\n",
      "107             59.80      65\n",
      "1629            20.85      21\n",
      "1046           116.95      72\n",
      "1127            20.35       1\n",
      "1355            23.95      69\n",
      "1415            25.45      72\n",
      "1398            20.10      46\n",
      "1543            19.80      72\n",
      "\n",
      "[1348 rows x 2 columns]\n"
     ]
    }
   ],
   "source": [
    "def new_dfs(x_train, x_test, selected_features_rfe):\n",
    "    x_train = x_train['monthly_charges', 'tenure']\n",
    "    x_test = x_test['monthly_charges', 'tenure']\n",
    "    return x_train, x_test\n",
    "print(x_train)"
   ]
  },
  {
   "cell_type": "code",
   "execution_count": 16,
   "metadata": {},
   "outputs": [
    {
     "name": "stdout",
     "output_type": "stream",
     "text": [
      "      monthly_charges  tenure\n",
      "308             90.35      71\n",
      "455             59.75      69\n",
      "914            106.60      61\n",
      "1420            25.10      65\n",
      "1557            20.20      35\n",
      "104             90.60      72\n",
      "169             40.05      70\n",
      "1472            20.05      34\n",
      "1197            25.60      71\n",
      "1450            23.40      62\n",
      "812            114.75      70\n",
      "616             80.85      72\n",
      "231             68.75      66\n",
      "336             70.10      48\n",
      "783            101.15      60\n",
      "186             86.10      58\n",
      "211             86.50      68\n",
      "651            109.55      72\n",
      "1594            24.35      58\n",
      "348             67.80      72\n",
      "958            113.60      55\n",
      "1198            19.95      68\n",
      "587             82.65      72\n",
      "1122            20.40      38\n",
      "386             64.25      16\n",
      "208             49.85      64\n",
      "1232            20.25      36\n",
      "50              86.65      72\n",
      "1686            26.10      72\n",
      "28              85.25      67\n",
      "...               ...     ...\n",
      "320             65.65      72\n",
      "223             82.85      68\n",
      "173             82.30      72\n",
      "48              90.30      71\n",
      "324             64.45      72\n",
      "1385            19.65      47\n",
      "432             85.45      71\n",
      "1681            25.85      27\n",
      "1172            19.75      61\n",
      "635            114.90      72\n",
      "1576            22.95      42\n",
      "1672            19.80      37\n",
      "332             84.30      58\n",
      "1487            19.40      46\n",
      "1180            20.20      59\n",
      "436             85.40      38\n",
      "999            103.40      72\n",
      "707            109.95      72\n",
      "859            106.10      72\n",
      "1239            25.30      65\n",
      "822            110.10      63\n",
      "1260            25.60      19\n",
      "548             88.00      68\n",
      "1583            20.00      42\n",
      "5               58.25      71\n",
      "1642            25.00      60\n",
      "462             91.30      54\n",
      "1166            19.75      47\n",
      "1079            20.05      48\n",
      "1319            24.90      67\n",
      "\n",
      "[337 rows x 2 columns]\n"
     ]
    }
   ],
   "source": [
    "print(x_test)"
   ]
  },
  {
   "cell_type": "code",
   "execution_count": null,
   "metadata": {},
   "outputs": [],
   "source": []
  }
 ],
 "metadata": {
  "kernelspec": {
   "display_name": "Python 3",
   "language": "python",
   "name": "python3"
  },
  "language_info": {
   "codemirror_mode": {
    "name": "ipython",
    "version": 3
   },
   "file_extension": ".py",
   "mimetype": "text/x-python",
   "name": "python",
   "nbconvert_exporter": "python",
   "pygments_lexer": "ipython3",
   "version": "3.7.3"
  }
 },
 "nbformat": 4,
 "nbformat_minor": 2
}
