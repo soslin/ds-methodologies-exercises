{
 "cells": [
  {
   "cell_type": "markdown",
   "metadata": {},
   "source": [
    "Functions imported from wrangle.py"
   ]
  },
  {
   "cell_type": "code",
   "execution_count": 1,
   "metadata": {},
   "outputs": [
    {
     "name": "stdout",
     "output_type": "stream",
     "text": [
      "<class 'pandas.core.frame.DataFrame'>\n",
      "RangeIndex: 7043 entries, 0 to 7042\n",
      "Data columns (total 4 columns):\n",
      "customer_id        7043 non-null object\n",
      "monthly_charges    7043 non-null float64\n",
      "tenure             7043 non-null int64\n",
      "total_charges      7043 non-null object\n",
      "dtypes: float64(1), int64(1), object(2)\n",
      "memory usage: 220.2+ KB\n",
      "<class 'pandas.core.frame.DataFrame'>\n",
      "Int64Index: 7032 entries, 0 to 7042\n",
      "Data columns (total 4 columns):\n",
      "customer_id        7032 non-null object\n",
      "monthly_charges    7032 non-null float64\n",
      "tenure             7032 non-null int64\n",
      "total_charges      7032 non-null object\n",
      "dtypes: float64(1), int64(1), object(2)\n",
      "memory usage: 274.7+ KB\n",
      "<class 'pandas.core.frame.DataFrame'>\n",
      "Int64Index: 7032 entries, 0 to 7042\n",
      "Data columns (total 4 columns):\n",
      "customer_id        7032 non-null object\n",
      "monthly_charges    7032 non-null float64\n",
      "tenure             7032 non-null int64\n",
      "total_charges      7032 non-null float64\n",
      "dtypes: float64(2), int64(1), object(1)\n",
      "memory usage: 274.7+ KB\n"
     ]
    },
    {
     "data": {
      "text/html": [
       "<div>\n",
       "<style scoped>\n",
       "    .dataframe tbody tr th:only-of-type {\n",
       "        vertical-align: middle;\n",
       "    }\n",
       "\n",
       "    .dataframe tbody tr th {\n",
       "        vertical-align: top;\n",
       "    }\n",
       "\n",
       "    .dataframe thead th {\n",
       "        text-align: right;\n",
       "    }\n",
       "</style>\n",
       "<table border=\"1\" class=\"dataframe\">\n",
       "  <thead>\n",
       "    <tr style=\"text-align: right;\">\n",
       "      <th></th>\n",
       "      <th>customer_id</th>\n",
       "      <th>monthly_charges</th>\n",
       "      <th>tenure</th>\n",
       "      <th>total_charges</th>\n",
       "    </tr>\n",
       "  </thead>\n",
       "  <tbody>\n",
       "    <tr>\n",
       "      <th>0</th>\n",
       "      <td>0002-ORFBO</td>\n",
       "      <td>65.6</td>\n",
       "      <td>9</td>\n",
       "      <td>593.30</td>\n",
       "    </tr>\n",
       "    <tr>\n",
       "      <th>1</th>\n",
       "      <td>0003-MKNFE</td>\n",
       "      <td>59.9</td>\n",
       "      <td>9</td>\n",
       "      <td>542.40</td>\n",
       "    </tr>\n",
       "    <tr>\n",
       "      <th>2</th>\n",
       "      <td>0004-TLHLJ</td>\n",
       "      <td>73.9</td>\n",
       "      <td>4</td>\n",
       "      <td>280.85</td>\n",
       "    </tr>\n",
       "    <tr>\n",
       "      <th>3</th>\n",
       "      <td>0011-IGKFF</td>\n",
       "      <td>98.0</td>\n",
       "      <td>13</td>\n",
       "      <td>1237.85</td>\n",
       "    </tr>\n",
       "    <tr>\n",
       "      <th>4</th>\n",
       "      <td>0013-EXCHZ</td>\n",
       "      <td>83.9</td>\n",
       "      <td>3</td>\n",
       "      <td>267.40</td>\n",
       "    </tr>\n",
       "  </tbody>\n",
       "</table>\n",
       "</div>"
      ],
      "text/plain": [
       "  customer_id  monthly_charges  tenure  total_charges\n",
       "0  0002-ORFBO             65.6       9         593.30\n",
       "1  0003-MKNFE             59.9       9         542.40\n",
       "2  0004-TLHLJ             73.9       4         280.85\n",
       "3  0011-IGKFF             98.0      13        1237.85\n",
       "4  0013-EXCHZ             83.9       3         267.40"
      ]
     },
     "execution_count": 1,
     "metadata": {},
     "output_type": "execute_result"
    }
   ],
   "source": [
    "import wrangle\n",
    "df = wrangle.wrangle_telco()\n",
    "df.head()"
   ]
  },
  {
   "cell_type": "code",
   "execution_count": null,
   "metadata": {},
   "outputs": [],
   "source": []
  },
  {
   "cell_type": "code",
   "execution_count": 1,
   "metadata": {},
   "outputs": [
    {
     "name": "stdout",
     "output_type": "stream",
     "text": [
      "<class 'pandas.core.frame.DataFrame'>\n",
      "RangeIndex: 7043 entries, 0 to 7042\n",
      "Data columns (total 4 columns):\n",
      "customer_id        7043 non-null object\n",
      "monthly_charges    7043 non-null float64\n",
      "tenure             7043 non-null int64\n",
      "total_charges      7043 non-null object\n",
      "dtypes: float64(1), int64(1), object(2)\n",
      "memory usage: 220.2+ KB\n",
      "<class 'pandas.core.frame.DataFrame'>\n",
      "Int64Index: 7032 entries, 0 to 7042\n",
      "Data columns (total 4 columns):\n",
      "customer_id        7032 non-null object\n",
      "monthly_charges    7032 non-null float64\n",
      "tenure             7032 non-null int64\n",
      "total_charges      7032 non-null object\n",
      "dtypes: float64(1), int64(1), object(2)\n",
      "memory usage: 274.7+ KB\n",
      "<class 'pandas.core.frame.DataFrame'>\n",
      "Int64Index: 7032 entries, 0 to 7042\n",
      "Data columns (total 4 columns):\n",
      "customer_id        7032 non-null object\n",
      "monthly_charges    7032 non-null float64\n",
      "tenure             7032 non-null int64\n",
      "total_charges      7032 non-null float64\n",
      "dtypes: float64(2), int64(1), object(1)\n",
      "memory usage: 274.7+ KB\n"
     ]
    },
    {
     "data": {
      "text/plain": [
       "<function wrangle.wrangle_telco_viz()>"
      ]
     },
     "execution_count": 1,
     "metadata": {},
     "output_type": "execute_result"
    },
    {
     "data": {
      "image/png": "[encoded data removed]",
      "text/plain": [
       "<Figure size 1152x216 with 3 Axes>"
      ]
     },
     "metadata": {
      "needs_background": "light"
     },
     "output_type": "display_data"
    },
    {
     "data": {
      "image/png": "[encoded data removed]",
      "text/plain": [
       "<Figure size 576x288 with 1 Axes>"
      ]
     },
     "metadata": {
      "needs_background": "light"
     },
     "output_type": "display_data"
    },
    {
     "data": {
      "image/png": "[encoded data removed]",
      "text/plain": [
       "<Figure size 1152x216 with 3 Axes>"
      ]
     },
     "metadata": {
      "needs_background": "light"
     },
     "output_type": "display_data"
    },
    {
     "data": {
      "image/png": "[encoded data removed]",
      "text/plain": [
       "<Figure size 576x288 with 1 Axes>"
      ]
     },
     "metadata": {
      "needs_background": "light"
     },
     "output_type": "display_data"
    }
   ],
   "source": [
    "%matplotlib inline\n",
    "import wrangle\n",
    "df_viz = wrangle.wrangle_telco_viz()\n",
    "df_viz"
   ]
  },
  {
   "cell_type": "code",
   "execution_count": null,
   "metadata": {},
   "outputs": [],
   "source": []
  },
  {
   "cell_type": "code",
   "execution_count": 1,
   "metadata": {},
   "outputs": [
    {
     "name": "stdout",
     "output_type": "stream",
     "text": [
      "<class 'pandas.core.frame.DataFrame'>\n",
      "RangeIndex: 7043 entries, 0 to 7042\n",
      "Data columns (total 4 columns):\n",
      "customer_id        7043 non-null object\n",
      "monthly_charges    7043 non-null float64\n",
      "tenure             7043 non-null int64\n",
      "total_charges      7043 non-null object\n",
      "dtypes: float64(1), int64(1), object(2)\n",
      "memory usage: 220.2+ KB\n",
      "<class 'pandas.core.frame.DataFrame'>\n",
      "Int64Index: 7032 entries, 0 to 7042\n",
      "Data columns (total 4 columns):\n",
      "customer_id        7032 non-null object\n",
      "monthly_charges    7032 non-null float64\n",
      "tenure             7032 non-null int64\n",
      "total_charges      7032 non-null object\n",
      "dtypes: float64(1), int64(1), object(2)\n",
      "memory usage: 274.7+ KB\n",
      "<class 'pandas.core.frame.DataFrame'>\n",
      "Int64Index: 7032 entries, 0 to 7042\n",
      "Data columns (total 4 columns):\n",
      "customer_id        7032 non-null object\n",
      "monthly_charges    7032 non-null float64\n",
      "tenure             7032 non-null int64\n",
      "total_charges      7032 non-null float64\n",
      "dtypes: float64(2), int64(1), object(1)\n",
      "memory usage: 274.7+ KB\n",
      "\n",
      "Showing 10-line sample \n",
      "      customer_id  monthly_charges  tenure  total_charges\n",
      "1616  2357-COQEK           103.30      28        2890.65\n",
      "6589  9365-SRSZE            70.55      27        1943.90\n",
      "5191  7302-ZHMHP            19.15       1          19.15\n",
      "6863  9750-BOOHV            30.15      32         927.65\n",
      "1100  1599-MMYRQ            81.45      62        4983.05\n",
      "4519  6368-TZZDT            19.50       4          96.85\n",
      "1760  2575-GFSOE            69.00       7         506.90\n",
      "634   0929-HYQEW            50.15       3         160.85\n",
      "3095  4439-JMPMT            85.75       5         470.95\n",
      "330   0487-RPVUM            99.40      61        5943.65\n",
      "\n",
      "Showing df.describe \n",
      "        monthly_charges       tenure  total_charges\n",
      "count      7032.000000  7032.000000    7032.000000\n",
      "mean         64.798208    32.421786    2283.300441\n",
      "std          30.085974    24.545260    2266.771362\n",
      "min          18.250000     1.000000      18.800000\n",
      "25%          35.587500     9.000000     401.450000\n",
      "50%          70.350000    29.000000    1397.475000\n",
      "75%          89.862500    55.000000    3794.737500\n",
      "max         118.750000    72.000000    8684.800000\n",
      "\n",
      "Showing df.shape \n",
      " (7032, 4)\n",
      "\n",
      "Showing df.info\n",
      "<class 'pandas.core.frame.DataFrame'>\n",
      "Int64Index: 7032 entries, 0 to 7042\n",
      "Data columns (total 4 columns):\n",
      "customer_id        7032 non-null object\n",
      "monthly_charges    7032 non-null float64\n",
      "tenure             7032 non-null int64\n",
      "total_charges      7032 non-null float64\n",
      "dtypes: float64(2), int64(1), object(1)\n",
      "memory usage: 274.7+ KB\n",
      "None\n"
     ]
    },
    {
     "data": {
      "text/plain": [
       "<function wrangle.wrangle_telco_description()>"
      ]
     },
     "execution_count": 1,
     "metadata": {},
     "output_type": "execute_result"
    }
   ],
   "source": [
    "import wrangle\n",
    "df_description = wrangle.wrangle_telco_description()\n",
    "df_description"
   ]
  },
  {
   "cell_type": "code",
   "execution_count": null,
   "metadata": {},
   "outputs": [],
   "source": []
  },
  {
   "cell_type": "code",
   "execution_count": null,
   "metadata": {},
   "outputs": [],
   "source": []
  },
  {
   "cell_type": "code",
   "execution_count": null,
   "metadata": {},
   "outputs": [],
   "source": []
  }
 ],
 "metadata": {
  "kernelspec": {
   "display_name": "Python 3",
   "language": "python",
   "name": "python3"
  },
  "language_info": {
   "codemirror_mode": {
    "name": "ipython",
    "version": 3
   },
   "file_extension": ".py",
   "mimetype": "text/x-python",
   "name": "python",
   "nbconvert_exporter": "python",
   "pygments_lexer": "ipython3",
   "version": "3.7.3"
  }
 },
 "nbformat": 4,
 "nbformat_minor": 2
}
