{
 "cells": [
  {
   "cell_type": "code",
   "execution_count": 1,
   "metadata": {},
   "outputs": [
    {
     "name": "stderr",
     "output_type": "stream",
     "text": [
      "/Users/seanoslin/codeup-data-science/ds-methodologies-exercises/nlp/acquire.py:21: UserWarning: No parser was explicitly specified, so I'm using the best available HTML parser for this system (\"lxml\"). This usually isn't a problem, but if you run this code on another system, or in a different virtual environment, it may use a different parser and behave differently.\n",
      "\n",
      "The code that caused this warning is on line 21 of the file /Users/seanoslin/codeup-data-science/ds-methodologies-exercises/nlp/acquire.py. To get rid of this warning, pass the additional argument 'features=\"lxml\"' to the BeautifulSoup constructor.\n",
      "\n",
      "  soup = BeautifulSoup(response.content)\n"
     ]
    }
   ],
   "source": [
    "import unicodedata\n",
    "import re\n",
    "import json\n",
    "\n",
    "import nltk\n",
    "from nltk.tokenize.toktok import ToktokTokenizer\n",
    "from nltk.corpus import stopwords\n",
    "\n",
    "import pandas as pd\n",
    "\n",
    "import acquire"
   ]
  },
  {
   "cell_type": "markdown",
   "metadata": {},
   "source": [
    "Define a function named basic_clean. It should take in a string and apply some basic text cleaning to it:\n",
    "\n",
    "- Lowercase everything\n",
    "- Normalize unicode characters\n",
    "- Replace anything that is not a letter, number, whitespace or a single quote."
   ]
  },
  {
   "cell_type": "code",
   "execution_count": 34,
   "metadata": {},
   "outputs": [],
   "source": [
    "def basic_clean(string):\n",
    "    \"\"\"\n",
    "    Lowercase the string\n",
    "    Normalize unicode characters\n",
    "    Replace anything that is not a letter, number, whitespace or a single quote.\n",
    "    \"\"\"\n",
    "    string = string.lower()\n",
    "    string = unicodedata.normalize('NFKD', string).encode('ascii', 'ignore').decode('utf-8', 'ignore')\n",
    "    \n",
    "    # remove anything not a space character, an apostrophy, letter, or number\n",
    "    string = re.sub(r\"[^a-z0-9'\\s]\", '', string)\n",
    "\n",
    "    # convert newlines and tabs to a single space\n",
    "    string = re.sub(r'[\\r|\\n|\\r\\n]+', ' ', string)\n",
    "    \n",
    "    string = string.strip()\n",
    "    return string"
   ]
  },
  {
   "cell_type": "code",
   "execution_count": 2,
   "metadata": {},
   "outputs": [
    {
     "name": "stdout",
     "output_type": "stream",
     "text": [
      "                                                body  \\\n",
      "0  \\nThe rumors are true! The time has arrived. C...   \n",
      "1  \\nBy Dimitri Antoniou and Maggie Giust\\nData S...   \n",
      "2  \\nBy Dimitri Antoniou\\nA week ago, Codeup laun...   \n",
      "3  \\n10 Tips to Crush It at the SA Tech Job Fair\\...   \n",
      "4  \\nCompetitor Bootcamps Are Closing. Is the Mod...   \n",
      "\n",
      "                                               title  \n",
      "0  Codeup’s Data Science Career Accelerator is He...  \n",
      "1                        Data Science Myths - Codeup  \n",
      "2  Data Science VS Data Analytics: What’s The Dif...  \n",
      "3  10 Tips to Crush It at the SA Tech Job Fair - ...  \n",
      "4  Competitor Bootcamps Are Closing. Is the Model...  \n"
     ]
    },
    {
     "data": {
      "text/plain": [
       "pandas.core.frame.DataFrame"
      ]
     },
     "execution_count": 2,
     "metadata": {},
     "output_type": "execute_result"
    }
   ],
   "source": [
    "original = acquire.make_new_request()\n",
    "print(original)\n",
    "type(original)"
   ]
  },
  {
   "cell_type": "code",
   "execution_count": 3,
   "metadata": {},
   "outputs": [
    {
     "data": {
      "text/html": [
       "<div>\n",
       "<style scoped>\n",
       "    .dataframe tbody tr th:only-of-type {\n",
       "        vertical-align: middle;\n",
       "    }\n",
       "\n",
       "    .dataframe tbody tr th {\n",
       "        vertical-align: top;\n",
       "    }\n",
       "\n",
       "    .dataframe thead th {\n",
       "        text-align: right;\n",
       "    }\n",
       "</style>\n",
       "<table border=\"1\" class=\"dataframe\">\n",
       "  <thead>\n",
       "    <tr style=\"text-align: right;\">\n",
       "      <th></th>\n",
       "      <th>body</th>\n",
       "      <th>title</th>\n",
       "    </tr>\n",
       "  </thead>\n",
       "  <tbody>\n",
       "    <tr>\n",
       "      <th>0</th>\n",
       "      <td>\\nThe rumors are true! The time has arrived. C...</td>\n",
       "      <td>Codeup’s Data Science Career Accelerator is He...</td>\n",
       "    </tr>\n",
       "    <tr>\n",
       "      <th>1</th>\n",
       "      <td>\\nBy Dimitri Antoniou and Maggie Giust\\nData S...</td>\n",
       "      <td>Data Science Myths - Codeup</td>\n",
       "    </tr>\n",
       "    <tr>\n",
       "      <th>2</th>\n",
       "      <td>\\nBy Dimitri Antoniou\\nA week ago, Codeup laun...</td>\n",
       "      <td>Data Science VS Data Analytics: What’s The Dif...</td>\n",
       "    </tr>\n",
       "    <tr>\n",
       "      <th>3</th>\n",
       "      <td>\\n10 Tips to Crush It at the SA Tech Job Fair\\...</td>\n",
       "      <td>10 Tips to Crush It at the SA Tech Job Fair - ...</td>\n",
       "    </tr>\n",
       "    <tr>\n",
       "      <th>4</th>\n",
       "      <td>\\nCompetitor Bootcamps Are Closing. Is the Mod...</td>\n",
       "      <td>Competitor Bootcamps Are Closing. Is the Model...</td>\n",
       "    </tr>\n",
       "  </tbody>\n",
       "</table>\n",
       "</div>"
      ],
      "text/plain": [
       "                                                body  \\\n",
       "0  \\nThe rumors are true! The time has arrived. C...   \n",
       "1  \\nBy Dimitri Antoniou and Maggie Giust\\nData S...   \n",
       "2  \\nBy Dimitri Antoniou\\nA week ago, Codeup laun...   \n",
       "3  \\n10 Tips to Crush It at the SA Tech Job Fair\\...   \n",
       "4  \\nCompetitor Bootcamps Are Closing. Is the Mod...   \n",
       "\n",
       "                                               title  \n",
       "0  Codeup’s Data Science Career Accelerator is He...  \n",
       "1                        Data Science Myths - Codeup  \n",
       "2  Data Science VS Data Analytics: What’s The Dif...  \n",
       "3  10 Tips to Crush It at the SA Tech Job Fair - ...  \n",
       "4  Competitor Bootcamps Are Closing. Is the Model...  "
      ]
     },
     "execution_count": 3,
     "metadata": {},
     "output_type": "execute_result"
    }
   ],
   "source": [
    "article = original.copy()\n",
    "article.head()"
   ]
  },
  {
   "cell_type": "code",
   "execution_count": 4,
   "metadata": {},
   "outputs": [
    {
     "name": "stdout",
     "output_type": "stream",
     "text": [
      "                                                body  \\\n",
      "0  \\nthe rumors are true! the time has arrived. c...   \n",
      "1  \\nby dimitri antoniou and maggie giust\\ndata s...   \n",
      "2  \\nby dimitri antoniou\\na week ago, codeup laun...   \n",
      "3  \\n10 tips to crush it at the sa tech job fair\\...   \n",
      "4  \\ncompetitor bootcamps are closing. is the mod...   \n",
      "\n",
      "                                               title  \n",
      "0  Codeup’s Data Science Career Accelerator is He...  \n",
      "1                        Data Science Myths - Codeup  \n",
      "2  Data Science VS Data Analytics: What’s The Dif...  \n",
      "3  10 Tips to Crush It at the SA Tech Job Fair - ...  \n",
      "4  Competitor Bootcamps Are Closing. Is the Model...  \n"
     ]
    }
   ],
   "source": [
    "article['body'] = article.body.str.lower()\n",
    "print(article)"
   ]
  },
  {
   "cell_type": "code",
   "execution_count": 5,
   "metadata": {},
   "outputs": [
    {
     "name": "stdout",
     "output_type": "stream",
     "text": [
      "                                                body  \\\n",
      "0  \\nthe rumors are true! the time has arrived. c...   \n",
      "1  \\nby dimitri antoniou and maggie giust\\ndata s...   \n",
      "2  \\nby dimitri antoniou\\na week ago, codeup laun...   \n",
      "3  \\n10 tips to crush it at the sa tech job fair\\...   \n",
      "4  \\ncompetitor bootcamps are closing. is the mod...   \n",
      "\n",
      "                                               title  \n",
      "0  codeup’s data science career accelerator is he...  \n",
      "1                        data science myths - codeup  \n",
      "2  data science vs data analytics: what’s the dif...  \n",
      "3  10 tips to crush it at the sa tech job fair - ...  \n",
      "4  competitor bootcamps are closing. is the model...  \n"
     ]
    }
   ],
   "source": [
    "article['title'] = article.title.str.lower()\n",
    "print(article)"
   ]
  },
  {
   "cell_type": "code",
   "execution_count": 6,
   "metadata": {},
   "outputs": [
    {
     "data": {
      "text/html": [
       "<div>\n",
       "<style scoped>\n",
       "    .dataframe tbody tr th:only-of-type {\n",
       "        vertical-align: middle;\n",
       "    }\n",
       "\n",
       "    .dataframe tbody tr th {\n",
       "        vertical-align: top;\n",
       "    }\n",
       "\n",
       "    .dataframe thead th {\n",
       "        text-align: right;\n",
       "    }\n",
       "</style>\n",
       "<table border=\"1\" class=\"dataframe\">\n",
       "  <thead>\n",
       "    <tr style=\"text-align: right;\">\n",
       "      <th></th>\n",
       "      <th>body</th>\n",
       "      <th>title</th>\n",
       "    </tr>\n",
       "  </thead>\n",
       "  <tbody>\n",
       "    <tr>\n",
       "      <th>0</th>\n",
       "      <td>\\nthe rumors are true! the time has arrived. c...</td>\n",
       "      <td>codeup’s data science career accelerator is he...</td>\n",
       "    </tr>\n",
       "    <tr>\n",
       "      <th>1</th>\n",
       "      <td>\\nby dimitri antoniou and maggie giust\\ndata s...</td>\n",
       "      <td>data science myths - codeup</td>\n",
       "    </tr>\n",
       "    <tr>\n",
       "      <th>2</th>\n",
       "      <td>\\nby dimitri antoniou\\na week ago, codeup laun...</td>\n",
       "      <td>data science vs data analytics: what’s the dif...</td>\n",
       "    </tr>\n",
       "    <tr>\n",
       "      <th>3</th>\n",
       "      <td>\\n10 tips to crush it at the sa tech job fair\\...</td>\n",
       "      <td>10 tips to crush it at the sa tech job fair - ...</td>\n",
       "    </tr>\n",
       "    <tr>\n",
       "      <th>4</th>\n",
       "      <td>\\ncompetitor bootcamps are closing. is the mod...</td>\n",
       "      <td>competitor bootcamps are closing. is the model...</td>\n",
       "    </tr>\n",
       "  </tbody>\n",
       "</table>\n",
       "</div>"
      ],
      "text/plain": [
       "                                                body  \\\n",
       "0  \\nthe rumors are true! the time has arrived. c...   \n",
       "1  \\nby dimitri antoniou and maggie giust\\ndata s...   \n",
       "2  \\nby dimitri antoniou\\na week ago, codeup laun...   \n",
       "3  \\n10 tips to crush it at the sa tech job fair\\...   \n",
       "4  \\ncompetitor bootcamps are closing. is the mod...   \n",
       "\n",
       "                                               title  \n",
       "0  codeup’s data science career accelerator is he...  \n",
       "1                        data science myths - codeup  \n",
       "2  data science vs data analytics: what’s the dif...  \n",
       "3  10 tips to crush it at the sa tech job fair - ...  \n",
       "4  competitor bootcamps are closing. is the model...  "
      ]
     },
     "execution_count": 6,
     "metadata": {},
     "output_type": "execute_result"
    }
   ],
   "source": [
    "article.head()"
   ]
  },
  {
   "cell_type": "code",
   "execution_count": 7,
   "metadata": {},
   "outputs": [],
   "source": [
    "def normalize(s):\n",
    "    return unicodedata.normalize('NFKD', s)\\\n",
    "    .encode('ascii', 'ignore')\\\n",
    "    .decode('utf-8', 'ignore')"
   ]
  },
  {
   "cell_type": "code",
   "execution_count": 8,
   "metadata": {},
   "outputs": [],
   "source": [
    "article['body'] = article.body.apply(normalize)"
   ]
  },
  {
   "cell_type": "code",
   "execution_count": 9,
   "metadata": {},
   "outputs": [],
   "source": [
    "article['title'] = article.title.apply(normalize)"
   ]
  },
  {
   "cell_type": "code",
   "execution_count": 10,
   "metadata": {},
   "outputs": [
    {
     "data": {
      "text/html": [
       "<div>\n",
       "<style scoped>\n",
       "    .dataframe tbody tr th:only-of-type {\n",
       "        vertical-align: middle;\n",
       "    }\n",
       "\n",
       "    .dataframe tbody tr th {\n",
       "        vertical-align: top;\n",
       "    }\n",
       "\n",
       "    .dataframe thead th {\n",
       "        text-align: right;\n",
       "    }\n",
       "</style>\n",
       "<table border=\"1\" class=\"dataframe\">\n",
       "  <thead>\n",
       "    <tr style=\"text-align: right;\">\n",
       "      <th></th>\n",
       "      <th>body</th>\n",
       "      <th>title</th>\n",
       "    </tr>\n",
       "  </thead>\n",
       "  <tbody>\n",
       "    <tr>\n",
       "      <th>0</th>\n",
       "      <td>\\nthe rumors are true! the time has arrived. c...</td>\n",
       "      <td>codeups data science career accelerator is her...</td>\n",
       "    </tr>\n",
       "    <tr>\n",
       "      <th>1</th>\n",
       "      <td>\\nby dimitri antoniou and maggie giust\\ndata s...</td>\n",
       "      <td>data science myths - codeup</td>\n",
       "    </tr>\n",
       "    <tr>\n",
       "      <th>2</th>\n",
       "      <td>\\nby dimitri antoniou\\na week ago, codeup laun...</td>\n",
       "      <td>data science vs data analytics: whats the diff...</td>\n",
       "    </tr>\n",
       "    <tr>\n",
       "      <th>3</th>\n",
       "      <td>\\n10 tips to crush it at the sa tech job fair\\...</td>\n",
       "      <td>10 tips to crush it at the sa tech job fair - ...</td>\n",
       "    </tr>\n",
       "    <tr>\n",
       "      <th>4</th>\n",
       "      <td>\\ncompetitor bootcamps are closing. is the mod...</td>\n",
       "      <td>competitor bootcamps are closing. is the model...</td>\n",
       "    </tr>\n",
       "  </tbody>\n",
       "</table>\n",
       "</div>"
      ],
      "text/plain": [
       "                                                body  \\\n",
       "0  \\nthe rumors are true! the time has arrived. c...   \n",
       "1  \\nby dimitri antoniou and maggie giust\\ndata s...   \n",
       "2  \\nby dimitri antoniou\\na week ago, codeup laun...   \n",
       "3  \\n10 tips to crush it at the sa tech job fair\\...   \n",
       "4  \\ncompetitor bootcamps are closing. is the mod...   \n",
       "\n",
       "                                               title  \n",
       "0  codeups data science career accelerator is her...  \n",
       "1                        data science myths - codeup  \n",
       "2  data science vs data analytics: whats the diff...  \n",
       "3  10 tips to crush it at the sa tech job fair - ...  \n",
       "4  competitor bootcamps are closing. is the model...  "
      ]
     },
     "execution_count": 10,
     "metadata": {},
     "output_type": "execute_result"
    }
   ],
   "source": [
    "article.head()"
   ]
  },
  {
   "cell_type": "code",
   "execution_count": 11,
   "metadata": {},
   "outputs": [],
   "source": [
    "def normalize(s):\n",
    "    s = s.strip()\n",
    "    s = s.replace('\\n', ' ')\n",
    "    return re.sub(r\"[^a-z0-9'\\s]\", '', s)"
   ]
  },
  {
   "cell_type": "code",
   "execution_count": 12,
   "metadata": {},
   "outputs": [],
   "source": [
    "article['body'] = article.body.apply(normalize)"
   ]
  },
  {
   "cell_type": "code",
   "execution_count": 13,
   "metadata": {},
   "outputs": [],
   "source": [
    "article['title'] = article.title.apply(normalize)"
   ]
  },
  {
   "cell_type": "code",
   "execution_count": 14,
   "metadata": {},
   "outputs": [
    {
     "data": {
      "text/html": [
       "<div>\n",
       "<style scoped>\n",
       "    .dataframe tbody tr th:only-of-type {\n",
       "        vertical-align: middle;\n",
       "    }\n",
       "\n",
       "    .dataframe tbody tr th {\n",
       "        vertical-align: top;\n",
       "    }\n",
       "\n",
       "    .dataframe thead th {\n",
       "        text-align: right;\n",
       "    }\n",
       "</style>\n",
       "<table border=\"1\" class=\"dataframe\">\n",
       "  <thead>\n",
       "    <tr style=\"text-align: right;\">\n",
       "      <th></th>\n",
       "      <th>body</th>\n",
       "      <th>title</th>\n",
       "    </tr>\n",
       "  </thead>\n",
       "  <tbody>\n",
       "    <tr>\n",
       "      <th>0</th>\n",
       "      <td>the rumors are true the time has arrived codeu...</td>\n",
       "      <td>codeups data science career accelerator is her...</td>\n",
       "    </tr>\n",
       "    <tr>\n",
       "      <th>1</th>\n",
       "      <td>by dimitri antoniou and maggie giust data scie...</td>\n",
       "      <td>data science myths  codeup</td>\n",
       "    </tr>\n",
       "    <tr>\n",
       "      <th>2</th>\n",
       "      <td>by dimitri antoniou a week ago codeup launched...</td>\n",
       "      <td>data science vs data analytics whats the diffe...</td>\n",
       "    </tr>\n",
       "    <tr>\n",
       "      <th>3</th>\n",
       "      <td>10 tips to crush it at the sa tech job fair sa...</td>\n",
       "      <td>10 tips to crush it at the sa tech job fair  c...</td>\n",
       "    </tr>\n",
       "    <tr>\n",
       "      <th>4</th>\n",
       "      <td>competitor bootcamps are closing is the model ...</td>\n",
       "      <td>competitor bootcamps are closing is the model ...</td>\n",
       "    </tr>\n",
       "  </tbody>\n",
       "</table>\n",
       "</div>"
      ],
      "text/plain": [
       "                                                body  \\\n",
       "0  the rumors are true the time has arrived codeu...   \n",
       "1  by dimitri antoniou and maggie giust data scie...   \n",
       "2  by dimitri antoniou a week ago codeup launched...   \n",
       "3  10 tips to crush it at the sa tech job fair sa...   \n",
       "4  competitor bootcamps are closing is the model ...   \n",
       "\n",
       "                                               title  \n",
       "0  codeups data science career accelerator is her...  \n",
       "1                         data science myths  codeup  \n",
       "2  data science vs data analytics whats the diffe...  \n",
       "3  10 tips to crush it at the sa tech job fair  c...  \n",
       "4  competitor bootcamps are closing is the model ...  "
      ]
     },
     "execution_count": 14,
     "metadata": {},
     "output_type": "execute_result"
    }
   ],
   "source": [
    "article.head()"
   ]
  },
  {
   "cell_type": "markdown",
   "metadata": {},
   "source": [
    "Define a function named tokenize. It should take in a string and tokenize all the words in the string."
   ]
  },
  {
   "cell_type": "code",
   "execution_count": 15,
   "metadata": {},
   "outputs": [],
   "source": [
    "def tokenize(s):\n",
    "    tokenizer = nltk.tokenize.ToktokTokenizer()\n",
    "    return tokenizer.tokenize(s, return_str=True)\n"
   ]
  },
  {
   "cell_type": "markdown",
   "metadata": {},
   "source": [
    "Define a function named stem. It should accept some text and return the text after applying stemming to all the words."
   ]
  },
  {
   "cell_type": "code",
   "execution_count": 17,
   "metadata": {},
   "outputs": [],
   "source": [
    "def stem(s):\n",
    "    ps = nltk.porter.PorterStemmer()\n",
    "    stems = [ps.stem(word) for word in s.split()]\n",
    "    string_of_stems = ' '.join(stems)\n",
    "    return string_of_stems"
   ]
  },
  {
   "cell_type": "code",
   "execution_count": 23,
   "metadata": {},
   "outputs": [
    {
     "data": {
      "text/plain": [
       "'run'"
      ]
     },
     "execution_count": 23,
     "metadata": {},
     "output_type": "execute_result"
    }
   ],
   "source": [
    "stem('running')"
   ]
  },
  {
   "cell_type": "markdown",
   "metadata": {},
   "source": [
    "Define a function named lemmatize. It should accept some text and return the text after applying lemmatization to each word."
   ]
  },
  {
   "cell_type": "code",
   "execution_count": 20,
   "metadata": {},
   "outputs": [],
   "source": [
    "def lemmatize(s):\n",
    "    wnl = nltk.stem.WordNetLemmatizer()\n",
    "    lemmas = [wnl.lemmatize(word) for word in s.split()]\n",
    "    string_of_lemmas = ' '.join(lemmas)\n",
    "    return string_of_lemmas"
   ]
  },
  {
   "cell_type": "code",
   "execution_count": 22,
   "metadata": {},
   "outputs": [
    {
     "data": {
      "text/plain": [
       "'wa'"
      ]
     },
     "execution_count": 22,
     "metadata": {},
     "output_type": "execute_result"
    }
   ],
   "source": [
    "lemmatize(\"was\")"
   ]
  },
  {
   "cell_type": "markdown",
   "metadata": {},
   "source": [
    "Define a function named remove_stopwords. It should accept some text and return the text after removing all the stopwords."
   ]
  },
  {
   "cell_type": "code",
   "execution_count": 24,
   "metadata": {},
   "outputs": [],
   "source": [
    "def remove_stopwords(s,extra_words =[], exclude_words = []):\n",
    "    #Tokenize the string\n",
    "    s = tokenize(s)\n",
    "    \n",
    "    words = s.split()\n",
    "    stopword_list = stopwords.words('english')\n",
    "    \n",
    "    #remove the excluded words fro the stopword list\n",
    "    stopword_list = set(stopword_list) - set(exclude_words)\n",
    "    \n",
    "    #add in the user specified extra words\n",
    "    stopword_list = stopword_list.union(set(extra_words))\n",
    "    \n",
    "    filtered_words = [w for w in words if w not in stopword_list]\n",
    "    final_string = ' '.join(filtered_words)\n",
    "    return final_string"
   ]
  },
  {
   "cell_type": "code",
   "execution_count": 25,
   "metadata": {},
   "outputs": [],
   "source": [
    "stopwords_list = [\"a\", \"an\", \"the\", \"bob\", \"jane\", 'steve', 'crate']"
   ]
  },
  {
   "cell_type": "code",
   "execution_count": 26,
   "metadata": {},
   "outputs": [],
   "source": [
    "words_to_exclude = [\"an\", \"bob\"]"
   ]
  },
  {
   "cell_type": "code",
   "execution_count": 28,
   "metadata": {},
   "outputs": [
    {
     "data": {
      "text/plain": [
       "{'a', 'crate', 'jane', 'steve', 'the'}"
      ]
     },
     "execution_count": 28,
     "metadata": {},
     "output_type": "execute_result"
    }
   ],
   "source": [
    "stopword_list = set(stopwords_list) - set(words_to_exclude)\n",
    "stopword_list"
   ]
  },
  {
   "cell_type": "code",
   "execution_count": 29,
   "metadata": {},
   "outputs": [
    {
     "data": {
      "text/plain": [
       "{'a', 'codeup', 'crate', 'jane', 'sean', 'steve', 'the'}"
      ]
     },
     "execution_count": 29,
     "metadata": {},
     "output_type": "execute_result"
    }
   ],
   "source": [
    "extra_words = ['codeup', 'sean']\n",
    "stopword_list = stopword_list.union(set(extra_words))\n",
    "stopword_list"
   ]
  },
  {
   "cell_type": "markdown",
   "metadata": {},
   "source": [
    "Define a function named prep_article that takes in the dictionary representing an article and returns a dictionary"
   ]
  },
  {
   "cell_type": "code",
   "execution_count": 35,
   "metadata": {},
   "outputs": [],
   "source": [
    "def prep_articles(df):\n",
    "    df['original'] = df.body\n",
    "    df['stemmed'] = df.body.apply(basic_clean).apply(stem)\n",
    "    df['lemmatized'] = df.body.apply(basic_clean).apply(lemmatize)\n",
    "    df['clean'] = df.body.apply(basic_clean).apply(remove_stopwords)\n",
    "    df.drop(columns = ['body'], inplace = True)\n",
    "    return df"
   ]
  },
  {
   "cell_type": "code",
   "execution_count": 36,
   "metadata": {},
   "outputs": [],
   "source": [
    "def prep_blog_posts():\n",
    "    df = acquire.get_blog_posts()\n",
    "    return prep_articles(df)"
   ]
  },
  {
   "cell_type": "code",
   "execution_count": 40,
   "metadata": {},
   "outputs": [],
   "source": [
    "def prep_corpus():\n",
    "    blog_df = prep_blog_posts()\n",
    "    blog_df[\"source\"] = \"Codeup Blog\"\n",
    "\n",
    "    return blog_df"
   ]
  },
  {
   "cell_type": "code",
   "execution_count": 42,
   "metadata": {},
   "outputs": [
    {
     "data": {
      "text/html": [
       "<div>\n",
       "<style scoped>\n",
       "    .dataframe tbody tr th:only-of-type {\n",
       "        vertical-align: middle;\n",
       "    }\n",
       "\n",
       "    .dataframe tbody tr th {\n",
       "        vertical-align: top;\n",
       "    }\n",
       "\n",
       "    .dataframe thead th {\n",
       "        text-align: right;\n",
       "    }\n",
       "</style>\n",
       "<table border=\"1\" class=\"dataframe\">\n",
       "  <thead>\n",
       "    <tr style=\"text-align: right;\">\n",
       "      <th></th>\n",
       "      <th>Unnamed: 0</th>\n",
       "      <th>title</th>\n",
       "      <th>original</th>\n",
       "      <th>stemmed</th>\n",
       "      <th>lemmatized</th>\n",
       "      <th>clean</th>\n",
       "      <th>source</th>\n",
       "    </tr>\n",
       "  </thead>\n",
       "  <tbody>\n",
       "    <tr>\n",
       "      <th>0</th>\n",
       "      <td>0</td>\n",
       "      <td>Codeup’s Data Science Career Accelerator is He...</td>\n",
       "      <td>\\nThe rumors are true! The time has arrived. C...</td>\n",
       "      <td>the rumor are true the time ha arriv codeup ha...</td>\n",
       "      <td>the rumor are true the time ha arrived codeup ...</td>\n",
       "      <td>rumors true time arrived codeup officially ope...</td>\n",
       "      <td>Codeup Blog</td>\n",
       "    </tr>\n",
       "    <tr>\n",
       "      <th>1</th>\n",
       "      <td>1</td>\n",
       "      <td>Data Science Myths - Codeup</td>\n",
       "      <td>\\nBy Dimitri Antoniou and Maggie Giust\\nData S...</td>\n",
       "      <td>by dimitri antoni and maggi giust data scienc ...</td>\n",
       "      <td>by dimitri antoniou and maggie giust data scie...</td>\n",
       "      <td>dimitri antoniou maggie giust data science big...</td>\n",
       "      <td>Codeup Blog</td>\n",
       "    </tr>\n",
       "    <tr>\n",
       "      <th>2</th>\n",
       "      <td>2</td>\n",
       "      <td>Data Science VS Data Analytics: What’s The Dif...</td>\n",
       "      <td>\\nBy Dimitri Antoniou\\nA week ago, Codeup laun...</td>\n",
       "      <td>by dimitri antoni a week ago codeup launch our...</td>\n",
       "      <td>by dimitri antoniou a week ago codeup launched...</td>\n",
       "      <td>dimitri antoniou week ago codeup launched imme...</td>\n",
       "      <td>Codeup Blog</td>\n",
       "    </tr>\n",
       "    <tr>\n",
       "      <th>3</th>\n",
       "      <td>3</td>\n",
       "      <td>10 Tips to Crush It at the SA Tech Job Fair - ...</td>\n",
       "      <td>\\n10 Tips to Crush It at the SA Tech Job Fair\\...</td>\n",
       "      <td>10 tip to crush it at the sa tech job fair sa ...</td>\n",
       "      <td>10 tip to crush it at the sa tech job fair sa ...</td>\n",
       "      <td>10 tips crush sa tech job fair sa tech job fai...</td>\n",
       "      <td>Codeup Blog</td>\n",
       "    </tr>\n",
       "    <tr>\n",
       "      <th>4</th>\n",
       "      <td>4</td>\n",
       "      <td>Competitor Bootcamps Are Closing. Is the Model...</td>\n",
       "      <td>\\nCompetitor Bootcamps Are Closing. Is the Mod...</td>\n",
       "      <td>competitor bootcamp are close is the model in ...</td>\n",
       "      <td>competitor bootcamps are closing is the model ...</td>\n",
       "      <td>competitor bootcamps closing model danger prog...</td>\n",
       "      <td>Codeup Blog</td>\n",
       "    </tr>\n",
       "  </tbody>\n",
       "</table>\n",
       "</div>"
      ],
      "text/plain": [
       "   Unnamed: 0                                              title  \\\n",
       "0           0  Codeup’s Data Science Career Accelerator is He...   \n",
       "1           1                        Data Science Myths - Codeup   \n",
       "2           2  Data Science VS Data Analytics: What’s The Dif...   \n",
       "3           3  10 Tips to Crush It at the SA Tech Job Fair - ...   \n",
       "4           4  Competitor Bootcamps Are Closing. Is the Model...   \n",
       "\n",
       "                                            original  \\\n",
       "0  \\nThe rumors are true! The time has arrived. C...   \n",
       "1  \\nBy Dimitri Antoniou and Maggie Giust\\nData S...   \n",
       "2  \\nBy Dimitri Antoniou\\nA week ago, Codeup laun...   \n",
       "3  \\n10 Tips to Crush It at the SA Tech Job Fair\\...   \n",
       "4  \\nCompetitor Bootcamps Are Closing. Is the Mod...   \n",
       "\n",
       "                                             stemmed  \\\n",
       "0  the rumor are true the time ha arriv codeup ha...   \n",
       "1  by dimitri antoni and maggi giust data scienc ...   \n",
       "2  by dimitri antoni a week ago codeup launch our...   \n",
       "3  10 tip to crush it at the sa tech job fair sa ...   \n",
       "4  competitor bootcamp are close is the model in ...   \n",
       "\n",
       "                                          lemmatized  \\\n",
       "0  the rumor are true the time ha arrived codeup ...   \n",
       "1  by dimitri antoniou and maggie giust data scie...   \n",
       "2  by dimitri antoniou a week ago codeup launched...   \n",
       "3  10 tip to crush it at the sa tech job fair sa ...   \n",
       "4  competitor bootcamps are closing is the model ...   \n",
       "\n",
       "                                               clean       source  \n",
       "0  rumors true time arrived codeup officially ope...  Codeup Blog  \n",
       "1  dimitri antoniou maggie giust data science big...  Codeup Blog  \n",
       "2  dimitri antoniou week ago codeup launched imme...  Codeup Blog  \n",
       "3  10 tips crush sa tech job fair sa tech job fai...  Codeup Blog  \n",
       "4  competitor bootcamps closing model danger prog...  Codeup Blog  "
      ]
     },
     "execution_count": 42,
     "metadata": {},
     "output_type": "execute_result"
    }
   ],
   "source": [
    "codeup_df = prep_corpus()\n",
    "codeup_df.head()"
   ]
  },
  {
   "cell_type": "code",
   "execution_count": null,
   "metadata": {},
   "outputs": [],
   "source": []
  }
 ],
 "metadata": {
  "kernelspec": {
   "display_name": "Python 3",
   "language": "python",
   "name": "python3"
  },
  "language_info": {
   "codemirror_mode": {
    "name": "ipython",
    "version": 3
   },
   "file_extension": ".py",
   "mimetype": "text/x-python",
   "name": "python",
   "nbconvert_exporter": "python",
   "pygments_lexer": "ipython3",
   "version": "3.7.3"
  }
 },
 "nbformat": 4,
 "nbformat_minor": 2
}
