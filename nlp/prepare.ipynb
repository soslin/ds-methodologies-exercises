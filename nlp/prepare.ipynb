{
 "cells": [
  {
   "cell_type": "code",
   "execution_count": 1,
   "metadata": {},
   "outputs": [
    {
     "name": "stderr",
     "output_type": "stream",
     "text": [
      "/Users/seanoslin/codeup-data-science/ds-methodologies-exercises/nlp/acquire.py:21: UserWarning: No parser was explicitly specified, so I'm using the best available HTML parser for this system (\"lxml\"). This usually isn't a problem, but if you run this code on another system, or in a different virtual environment, it may use a different parser and behave differently.\n",
      "\n",
      "The code that caused this warning is on line 21 of the file /Users/seanoslin/codeup-data-science/ds-methodologies-exercises/nlp/acquire.py. To get rid of this warning, pass the additional argument 'features=\"lxml\"' to the BeautifulSoup constructor.\n",
      "\n",
      "  soup = BeautifulSoup(response.content)\n"
     ]
    }
   ],
   "source": []
  },
  {
   "cell_type": "markdown",
   "metadata": {},
   "source": [
    "Define a function named basic_clean. It should take in a string and apply some basic text cleaning to it:\n",
    "\n",
    "- Lowercase everything\n",
    "- Normalize unicode characters\n",
    "- Replace anything that is not a letter, number, whitespace or a single quote."
   ]
  },
  {
   "cell_type": "code",
   "execution_count": 2,
   "metadata": {},
   "outputs": [],
   "source": [
    "\n",
    "    "
   ]
  },
  {
   "cell_type": "code",
   "execution_count": 3,
   "metadata": {},
   "outputs": [
    {
     "name": "stdout",
     "output_type": "stream",
     "text": [
      "                                                body  \\\n",
      "0  \\nThe rumors are true! The time has arrived. C...   \n",
      "1  \\nBy Dimitri Antoniou and Maggie Giust\\nData S...   \n",
      "2  \\nBy Dimitri Antoniou\\nA week ago, Codeup laun...   \n",
      "3  \\n10 Tips to Crush It at the SA Tech Job Fair\\...   \n",
      "4  \\nCompetitor Bootcamps Are Closing. Is the Mod...   \n",
      "\n",
      "                                               title  \n",
      "0  Codeup’s Data Science Career Accelerator is He...  \n",
      "1                        Data Science Myths - Codeup  \n",
      "2  Data Science VS Data Analytics: What’s The Dif...  \n",
      "3  10 Tips to Crush It at the SA Tech Job Fair - ...  \n",
      "4  Competitor Bootcamps Are Closing. Is the Model...  \n"
     ]
    },
    {
     "data": {
      "text/plain": [
       "pandas.core.frame.DataFrame"
      ]
     },
     "execution_count": 3,
     "metadata": {},
     "output_type": "execute_result"
    }
   ],
   "source": [
    "original = acquire.make_new_request()\n",
    "print(original)\n",
    "type(original)"
   ]
  },
  {
   "cell_type": "code",
   "execution_count": 4,
   "metadata": {},
   "outputs": [
    {
     "data": {
      "text/html": [
       "<div>\n",
       "<style scoped>\n",
       "    .dataframe tbody tr th:only-of-type {\n",
       "        vertical-align: middle;\n",
       "    }\n",
       "\n",
       "    .dataframe tbody tr th {\n",
       "        vertical-align: top;\n",
       "    }\n",
       "\n",
       "    .dataframe thead th {\n",
       "        text-align: right;\n",
       "    }\n",
       "</style>\n",
       "<table border=\"1\" class=\"dataframe\">\n",
       "  <thead>\n",
       "    <tr style=\"text-align: right;\">\n",
       "      <th></th>\n",
       "      <th>body</th>\n",
       "      <th>title</th>\n",
       "    </tr>\n",
       "  </thead>\n",
       "  <tbody>\n",
       "    <tr>\n",
       "      <th>0</th>\n",
       "      <td>\\nThe rumors are true! The time has arrived. C...</td>\n",
       "      <td>Codeup’s Data Science Career Accelerator is He...</td>\n",
       "    </tr>\n",
       "    <tr>\n",
       "      <th>1</th>\n",
       "      <td>\\nBy Dimitri Antoniou and Maggie Giust\\nData S...</td>\n",
       "      <td>Data Science Myths - Codeup</td>\n",
       "    </tr>\n",
       "    <tr>\n",
       "      <th>2</th>\n",
       "      <td>\\nBy Dimitri Antoniou\\nA week ago, Codeup laun...</td>\n",
       "      <td>Data Science VS Data Analytics: What’s The Dif...</td>\n",
       "    </tr>\n",
       "    <tr>\n",
       "      <th>3</th>\n",
       "      <td>\\n10 Tips to Crush It at the SA Tech Job Fair\\...</td>\n",
       "      <td>10 Tips to Crush It at the SA Tech Job Fair - ...</td>\n",
       "    </tr>\n",
       "    <tr>\n",
       "      <th>4</th>\n",
       "      <td>\\nCompetitor Bootcamps Are Closing. Is the Mod...</td>\n",
       "      <td>Competitor Bootcamps Are Closing. Is the Model...</td>\n",
       "    </tr>\n",
       "  </tbody>\n",
       "</table>\n",
       "</div>"
      ],
      "text/plain": [
       "                                                body  \\\n",
       "0  \\nThe rumors are true! The time has arrived. C...   \n",
       "1  \\nBy Dimitri Antoniou and Maggie Giust\\nData S...   \n",
       "2  \\nBy Dimitri Antoniou\\nA week ago, Codeup laun...   \n",
       "3  \\n10 Tips to Crush It at the SA Tech Job Fair\\...   \n",
       "4  \\nCompetitor Bootcamps Are Closing. Is the Mod...   \n",
       "\n",
       "                                               title  \n",
       "0  Codeup’s Data Science Career Accelerator is He...  \n",
       "1                        Data Science Myths - Codeup  \n",
       "2  Data Science VS Data Analytics: What’s The Dif...  \n",
       "3  10 Tips to Crush It at the SA Tech Job Fair - ...  \n",
       "4  Competitor Bootcamps Are Closing. Is the Model...  "
      ]
     },
     "execution_count": 4,
     "metadata": {},
     "output_type": "execute_result"
    }
   ],
   "source": [
    "article = original.copy()\n",
    "article.head()"
   ]
  },
  {
   "cell_type": "code",
   "execution_count": 5,
   "metadata": {},
   "outputs": [
    {
     "name": "stdout",
     "output_type": "stream",
     "text": [
      "                                                body  \\\n",
      "0  \\nthe rumors are true! the time has arrived. c...   \n",
      "1  \\nby dimitri antoniou and maggie giust\\ndata s...   \n",
      "2  \\nby dimitri antoniou\\na week ago, codeup laun...   \n",
      "3  \\n10 tips to crush it at the sa tech job fair\\...   \n",
      "4  \\ncompetitor bootcamps are closing. is the mod...   \n",
      "\n",
      "                                               title  \n",
      "0  Codeup’s Data Science Career Accelerator is He...  \n",
      "1                        Data Science Myths - Codeup  \n",
      "2  Data Science VS Data Analytics: What’s The Dif...  \n",
      "3  10 Tips to Crush It at the SA Tech Job Fair - ...  \n",
      "4  Competitor Bootcamps Are Closing. Is the Model...  \n"
     ]
    }
   ],
   "source": [
    "article['body'] = article.body.str.lower()\n",
    "print(article)"
   ]
  },
  {
   "cell_type": "code",
   "execution_count": 6,
   "metadata": {},
   "outputs": [
    {
     "name": "stdout",
     "output_type": "stream",
     "text": [
      "                                                body  \\\n",
      "0  \\nthe rumors are true! the time has arrived. c...   \n",
      "1  \\nby dimitri antoniou and maggie giust\\ndata s...   \n",
      "2  \\nby dimitri antoniou\\na week ago, codeup laun...   \n",
      "3  \\n10 tips to crush it at the sa tech job fair\\...   \n",
      "4  \\ncompetitor bootcamps are closing. is the mod...   \n",
      "\n",
      "                                               title  \n",
      "0  codeup’s data science career accelerator is he...  \n",
      "1                        data science myths - codeup  \n",
      "2  data science vs data analytics: what’s the dif...  \n",
      "3  10 tips to crush it at the sa tech job fair - ...  \n",
      "4  competitor bootcamps are closing. is the model...  \n"
     ]
    }
   ],
   "source": [
    "article['title'] = article.title.str.lower()\n",
    "print(article)"
   ]
  },
  {
   "cell_type": "code",
   "execution_count": 7,
   "metadata": {},
   "outputs": [
    {
     "data": {
      "text/html": [
       "<div>\n",
       "<style scoped>\n",
       "    .dataframe tbody tr th:only-of-type {\n",
       "        vertical-align: middle;\n",
       "    }\n",
       "\n",
       "    .dataframe tbody tr th {\n",
       "        vertical-align: top;\n",
       "    }\n",
       "\n",
       "    .dataframe thead th {\n",
       "        text-align: right;\n",
       "    }\n",
       "</style>\n",
       "<table border=\"1\" class=\"dataframe\">\n",
       "  <thead>\n",
       "    <tr style=\"text-align: right;\">\n",
       "      <th></th>\n",
       "      <th>body</th>\n",
       "      <th>title</th>\n",
       "    </tr>\n",
       "  </thead>\n",
       "  <tbody>\n",
       "    <tr>\n",
       "      <th>0</th>\n",
       "      <td>\\nthe rumors are true! the time has arrived. c...</td>\n",
       "      <td>codeup’s data science career accelerator is he...</td>\n",
       "    </tr>\n",
       "    <tr>\n",
       "      <th>1</th>\n",
       "      <td>\\nby dimitri antoniou and maggie giust\\ndata s...</td>\n",
       "      <td>data science myths - codeup</td>\n",
       "    </tr>\n",
       "    <tr>\n",
       "      <th>2</th>\n",
       "      <td>\\nby dimitri antoniou\\na week ago, codeup laun...</td>\n",
       "      <td>data science vs data analytics: what’s the dif...</td>\n",
       "    </tr>\n",
       "    <tr>\n",
       "      <th>3</th>\n",
       "      <td>\\n10 tips to crush it at the sa tech job fair\\...</td>\n",
       "      <td>10 tips to crush it at the sa tech job fair - ...</td>\n",
       "    </tr>\n",
       "    <tr>\n",
       "      <th>4</th>\n",
       "      <td>\\ncompetitor bootcamps are closing. is the mod...</td>\n",
       "      <td>competitor bootcamps are closing. is the model...</td>\n",
       "    </tr>\n",
       "  </tbody>\n",
       "</table>\n",
       "</div>"
      ],
      "text/plain": [
       "                                                body  \\\n",
       "0  \\nthe rumors are true! the time has arrived. c...   \n",
       "1  \\nby dimitri antoniou and maggie giust\\ndata s...   \n",
       "2  \\nby dimitri antoniou\\na week ago, codeup laun...   \n",
       "3  \\n10 tips to crush it at the sa tech job fair\\...   \n",
       "4  \\ncompetitor bootcamps are closing. is the mod...   \n",
       "\n",
       "                                               title  \n",
       "0  codeup’s data science career accelerator is he...  \n",
       "1                        data science myths - codeup  \n",
       "2  data science vs data analytics: what’s the dif...  \n",
       "3  10 tips to crush it at the sa tech job fair - ...  \n",
       "4  competitor bootcamps are closing. is the model...  "
      ]
     },
     "execution_count": 7,
     "metadata": {},
     "output_type": "execute_result"
    }
   ],
   "source": [
    "article.head()"
   ]
  },
  {
   "cell_type": "code",
   "execution_count": 8,
   "metadata": {},
   "outputs": [],
   "source": [
    "def normalize(s):\n",
    "    return unicodedata.normalize('NFKD', s)\\\n",
    "    .encode('ascii', 'ignore')\\\n",
    "    .decode('utf-8', 'ignore')"
   ]
  },
  {
   "cell_type": "code",
   "execution_count": 9,
   "metadata": {},
   "outputs": [],
   "source": [
    "article['body'] = article.body.apply(normalize)"
   ]
  },
  {
   "cell_type": "code",
   "execution_count": 10,
   "metadata": {},
   "outputs": [],
   "source": [
    "article['title'] = article.title.apply(normalize)"
   ]
  },
  {
   "cell_type": "code",
   "execution_count": 11,
   "metadata": {},
   "outputs": [
    {
     "data": {
      "text/html": [
       "<div>\n",
       "<style scoped>\n",
       "    .dataframe tbody tr th:only-of-type {\n",
       "        vertical-align: middle;\n",
       "    }\n",
       "\n",
       "    .dataframe tbody tr th {\n",
       "        vertical-align: top;\n",
       "    }\n",
       "\n",
       "    .dataframe thead th {\n",
       "        text-align: right;\n",
       "    }\n",
       "</style>\n",
       "<table border=\"1\" class=\"dataframe\">\n",
       "  <thead>\n",
       "    <tr style=\"text-align: right;\">\n",
       "      <th></th>\n",
       "      <th>body</th>\n",
       "      <th>title</th>\n",
       "    </tr>\n",
       "  </thead>\n",
       "  <tbody>\n",
       "    <tr>\n",
       "      <th>0</th>\n",
       "      <td>\\nthe rumors are true! the time has arrived. c...</td>\n",
       "      <td>codeups data science career accelerator is her...</td>\n",
       "    </tr>\n",
       "    <tr>\n",
       "      <th>1</th>\n",
       "      <td>\\nby dimitri antoniou and maggie giust\\ndata s...</td>\n",
       "      <td>data science myths - codeup</td>\n",
       "    </tr>\n",
       "    <tr>\n",
       "      <th>2</th>\n",
       "      <td>\\nby dimitri antoniou\\na week ago, codeup laun...</td>\n",
       "      <td>data science vs data analytics: whats the diff...</td>\n",
       "    </tr>\n",
       "    <tr>\n",
       "      <th>3</th>\n",
       "      <td>\\n10 tips to crush it at the sa tech job fair\\...</td>\n",
       "      <td>10 tips to crush it at the sa tech job fair - ...</td>\n",
       "    </tr>\n",
       "    <tr>\n",
       "      <th>4</th>\n",
       "      <td>\\ncompetitor bootcamps are closing. is the mod...</td>\n",
       "      <td>competitor bootcamps are closing. is the model...</td>\n",
       "    </tr>\n",
       "  </tbody>\n",
       "</table>\n",
       "</div>"
      ],
      "text/plain": [
       "                                                body  \\\n",
       "0  \\nthe rumors are true! the time has arrived. c...   \n",
       "1  \\nby dimitri antoniou and maggie giust\\ndata s...   \n",
       "2  \\nby dimitri antoniou\\na week ago, codeup laun...   \n",
       "3  \\n10 tips to crush it at the sa tech job fair\\...   \n",
       "4  \\ncompetitor bootcamps are closing. is the mod...   \n",
       "\n",
       "                                               title  \n",
       "0  codeups data science career accelerator is her...  \n",
       "1                        data science myths - codeup  \n",
       "2  data science vs data analytics: whats the diff...  \n",
       "3  10 tips to crush it at the sa tech job fair - ...  \n",
       "4  competitor bootcamps are closing. is the model...  "
      ]
     },
     "execution_count": 11,
     "metadata": {},
     "output_type": "execute_result"
    }
   ],
   "source": [
    "article.head()"
   ]
  },
  {
   "cell_type": "code",
   "execution_count": 12,
   "metadata": {},
   "outputs": [],
   "source": [
    "def normalize(s):\n",
    "    s = s.strip()\n",
    "    s = s.replace('\\n', ' ')\n",
    "    return re.sub(r\"[^a-z0-9'\\s]\", '', s)"
   ]
  },
  {
   "cell_type": "code",
   "execution_count": 13,
   "metadata": {},
   "outputs": [],
   "source": [
    "article['body'] = article.body.apply(normalize)"
   ]
  },
  {
   "cell_type": "code",
   "execution_count": 14,
   "metadata": {},
   "outputs": [],
   "source": [
    "article['title'] = article.title.apply(normalize)"
   ]
  },
  {
   "cell_type": "code",
   "execution_count": 17,
   "metadata": {},
   "outputs": [
    {
     "data": {
      "text/html": [
       "<div>\n",
       "<style scoped>\n",
       "    .dataframe tbody tr th:only-of-type {\n",
       "        vertical-align: middle;\n",
       "    }\n",
       "\n",
       "    .dataframe tbody tr th {\n",
       "        vertical-align: top;\n",
       "    }\n",
       "\n",
       "    .dataframe thead th {\n",
       "        text-align: right;\n",
       "    }\n",
       "</style>\n",
       "<table border=\"1\" class=\"dataframe\">\n",
       "  <thead>\n",
       "    <tr style=\"text-align: right;\">\n",
       "      <th></th>\n",
       "      <th>body</th>\n",
       "      <th>title</th>\n",
       "    </tr>\n",
       "  </thead>\n",
       "  <tbody>\n",
       "    <tr>\n",
       "      <th>0</th>\n",
       "      <td>the rumors are true the time has arrived codeu...</td>\n",
       "      <td>codeups data science career accelerator is her...</td>\n",
       "    </tr>\n",
       "    <tr>\n",
       "      <th>1</th>\n",
       "      <td>by dimitri antoniou and maggie giust data scie...</td>\n",
       "      <td>data science myths  codeup</td>\n",
       "    </tr>\n",
       "    <tr>\n",
       "      <th>2</th>\n",
       "      <td>by dimitri antoniou a week ago codeup launched...</td>\n",
       "      <td>data science vs data analytics whats the diffe...</td>\n",
       "    </tr>\n",
       "    <tr>\n",
       "      <th>3</th>\n",
       "      <td>10 tips to crush it at the sa tech job fair sa...</td>\n",
       "      <td>10 tips to crush it at the sa tech job fair  c...</td>\n",
       "    </tr>\n",
       "    <tr>\n",
       "      <th>4</th>\n",
       "      <td>competitor bootcamps are closing is the model ...</td>\n",
       "      <td>competitor bootcamps are closing is the model ...</td>\n",
       "    </tr>\n",
       "  </tbody>\n",
       "</table>\n",
       "</div>"
      ],
      "text/plain": [
       "                                                body  \\\n",
       "0  the rumors are true the time has arrived codeu...   \n",
       "1  by dimitri antoniou and maggie giust data scie...   \n",
       "2  by dimitri antoniou a week ago codeup launched...   \n",
       "3  10 tips to crush it at the sa tech job fair sa...   \n",
       "4  competitor bootcamps are closing is the model ...   \n",
       "\n",
       "                                               title  \n",
       "0  codeups data science career accelerator is her...  \n",
       "1                         data science myths  codeup  \n",
       "2  data science vs data analytics whats the diffe...  \n",
       "3  10 tips to crush it at the sa tech job fair  c...  \n",
       "4  competitor bootcamps are closing is the model ...  "
      ]
     },
     "execution_count": 17,
     "metadata": {},
     "output_type": "execute_result"
    }
   ],
   "source": [
    "article.head()"
   ]
  },
  {
   "cell_type": "code",
   "execution_count": null,
   "metadata": {},
   "outputs": [],
   "source": []
  }
 ],
 "metadata": {
  "kernelspec": {
   "display_name": "Python 3",
   "language": "python",
   "name": "python3"
  },
  "language_info": {
   "codemirror_mode": {
    "name": "ipython",
    "version": 3
   },
   "file_extension": ".py",
   "mimetype": "text/x-python",
   "name": "python",
   "nbconvert_exporter": "python",
   "pygments_lexer": "ipython3",
   "version": "3.7.3"
  }
 },
 "nbformat": 4,
 "nbformat_minor": 2
}
