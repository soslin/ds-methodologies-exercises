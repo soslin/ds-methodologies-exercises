{
 "cells": [
  {
   "cell_type": "code",
   "execution_count": 1,
   "metadata": {},
   "outputs": [],
   "source": [
    "import pandas as pd\n",
    "import numpy as np\n",
    "import pyspark\n",
    "import pyspark.sql.functions as F\n",
    " \n",
    "from pyspark.sql import SparkSession\n",
    "from pyspark.sql.functions import *   \n",
    "from pyspark.sql.types import StructType, StructField, StringType\n"
   ]
  },
  {
   "cell_type": "code",
   "execution_count": 2,
   "metadata": {},
   "outputs": [
    {
     "data": {
      "text/html": [
       "\n",
       "            <div>\n",
       "                <p><b>SparkSession - in-memory</b></p>\n",
       "                \n",
       "        <div>\n",
       "            <p><b>SparkContext</b></p>\n",
       "\n",
       "            <p><a href=\"http://10.10.22.209:4042\">Spark UI</a></p>\n",
       "\n",
       "            <dl>\n",
       "              <dt>Version</dt>\n",
       "                <dd><code>v2.4.4</code></dd>\n",
       "              <dt>Master</dt>\n",
       "                <dd><code>local[*]</code></dd>\n",
       "              <dt>AppName</dt>\n",
       "                <dd><code>pyspark-shell</code></dd>\n",
       "            </dl>\n",
       "        </div>\n",
       "        \n",
       "            </div>\n",
       "        "
      ],
      "text/plain": [
       "<pyspark.sql.session.SparkSession at 0x121a497f0>"
      ]
     },
     "execution_count": 2,
     "metadata": {},
     "output_type": "execute_result"
    }
   ],
   "source": [
    "spark = pyspark.sql.SparkSession.builder.getOrCreate()\n",
    "spark"
   ]
  },
  {
   "cell_type": "code",
   "execution_count": 3,
   "metadata": {},
   "outputs": [
    {
     "name": "stdout",
     "output_type": "stream",
     "text": [
      "-RECORD 0------------------------------------\n",
      " case_id              | 1014127332           \n",
      " case_opened_date     | 1/1/18 0:42          \n",
      " case_closed_date     | 1/1/18 12:29         \n",
      " SLA_due_date         | 9/26/20 0:42         \n",
      " case_late            | NO                   \n",
      " num_days_late        | -998.5087616000001   \n",
      " case_closed          | YES                  \n",
      " dept_division        | Field Operations     \n",
      " service_request_type | Stray Animal         \n",
      " SLA_days             | 999.0                \n",
      " case_status          | Closed               \n",
      " source_id            | svcCRMLS             \n",
      " request_address      | 2315  EL PASO ST,... \n",
      " council_district     | 5                    \n",
      "-RECORD 1------------------------------------\n",
      " case_id              | 1014127333           \n",
      " case_opened_date     | 1/1/18 0:46          \n",
      " case_closed_date     | 1/3/18 8:11          \n",
      " SLA_due_date         | 1/5/18 8:30          \n",
      " case_late            | NO                   \n",
      " num_days_late        | -2.0126041669999997  \n",
      " case_closed          | YES                  \n",
      " dept_division        | Storm Water          \n",
      " service_request_type | Removal Of Obstru... \n",
      " SLA_days             | 4.322222222          \n",
      " case_status          | Closed               \n",
      " source_id            | svcCRMSS             \n",
      " request_address      | 2215  GOLIAD RD, ... \n",
      " council_district     | 3                    \n",
      "-RECORD 2------------------------------------\n",
      " case_id              | 1014127334           \n",
      " case_opened_date     | 1/1/18 0:48          \n",
      " case_closed_date     | 1/2/18 7:57          \n",
      " SLA_due_date         | 1/5/18 8:30          \n",
      " case_late            | NO                   \n",
      " num_days_late        | -3.022337963         \n",
      " case_closed          | YES                  \n",
      " dept_division        | Storm Water          \n",
      " service_request_type | Removal Of Obstru... \n",
      " SLA_days             | 4.320729167          \n",
      " case_status          | Closed               \n",
      " source_id            | svcCRMSS             \n",
      " request_address      | 102  PALFREY ST W... \n",
      " council_district     | 3                    \n",
      "-RECORD 3------------------------------------\n",
      " case_id              | 1014127335           \n",
      " case_opened_date     | 1/1/18 1:29          \n",
      " case_closed_date     | 1/2/18 8:13          \n",
      " SLA_due_date         | 1/17/18 8:30         \n",
      " case_late            | NO                   \n",
      " num_days_late        | -15.01148148         \n",
      " case_closed          | YES                  \n",
      " dept_division        | Code Enforcement     \n",
      " service_request_type | Front Or Side Yar... \n",
      " SLA_days             | 16.29188657          \n",
      " case_status          | Closed               \n",
      " source_id            | svcCRMSS             \n",
      " request_address      | 114  LA GARDE ST,... \n",
      " council_district     | 3                    \n",
      "-RECORD 4------------------------------------\n",
      " case_id              | 1014127336           \n",
      " case_opened_date     | 1/1/18 1:34          \n",
      " case_closed_date     | 1/1/18 13:29         \n",
      " SLA_due_date         | 1/1/18 4:34          \n",
      " case_late            | YES                  \n",
      " num_days_late        | 0.37216435200000003  \n",
      " case_closed          | YES                  \n",
      " dept_division        | Field Operations     \n",
      " service_request_type | Animal Cruelty(Cr... \n",
      " SLA_days             | 0.125                \n",
      " case_status          | Closed               \n",
      " source_id            | svcCRMSS             \n",
      " request_address      | 734  CLEARVIEW DR... \n",
      " council_district     | 7                    \n",
      "-RECORD 5------------------------------------\n",
      " case_id              | 1014127337           \n",
      " case_opened_date     | 1/1/18 6:28          \n",
      " case_closed_date     | 1/1/18 14:38         \n",
      " SLA_due_date         | 1/31/18 8:30         \n",
      " case_late            | NO                   \n",
      " num_days_late        | -29.74398148         \n",
      " case_closed          | YES                  \n",
      " dept_division        | Signals              \n",
      " service_request_type | Traffic Signal Op... \n",
      " SLA_days             | 30.08446759          \n",
      " case_status          | Closed               \n",
      " source_id            | svcCRMSS             \n",
      " request_address      | BANDERA RD and BR... \n",
      " council_district     | 7                    \n",
      "-RECORD 6------------------------------------\n",
      " case_id              | 1014127338           \n",
      " case_opened_date     | 1/1/18 6:57          \n",
      " case_closed_date     | 1/2/18 15:32         \n",
      " SLA_due_date         | 1/17/18 8:30         \n",
      " case_late            | NO                   \n",
      " num_days_late        | -14.70673611         \n",
      " case_closed          | YES                  \n",
      " dept_division        | Code Enforcement     \n",
      " service_request_type | Front Or Side Yar... \n",
      " SLA_days             | 16.06429398          \n",
      " case_status          | Closed               \n",
      " source_id            | svcCRMSS             \n",
      " request_address      | 10133  FIGARO CAN... \n",
      " council_district     | 4                    \n",
      "-RECORD 7------------------------------------\n",
      " case_id              | 1014127339           \n",
      " case_opened_date     | 1/1/18 6:58          \n",
      " case_closed_date     | 1/2/18 15:32         \n",
      " SLA_due_date         | 1/17/18 8:30         \n",
      " case_late            | NO                   \n",
      " num_days_late        | -14.70662037         \n",
      " case_closed          | YES                  \n",
      " dept_division        | Code Enforcement     \n",
      " service_request_type | Front Or Side Yar... \n",
      " SLA_days             | 16.063796300000003   \n",
      " case_status          | Closed               \n",
      " source_id            | svcCRMSS             \n",
      " request_address      | 10133  FIGARO CAN... \n",
      " council_district     | 4                    \n",
      "-RECORD 8------------------------------------\n",
      " case_id              | 1014127340           \n",
      " case_opened_date     | 1/1/18 6:58          \n",
      " case_closed_date     | 1/2/18 15:32         \n",
      " SLA_due_date         | 1/17/18 8:30         \n",
      " case_late            | NO                   \n",
      " num_days_late        | -14.70662037         \n",
      " case_closed          | YES                  \n",
      " dept_division        | Code Enforcement     \n",
      " service_request_type | Right Of Way/Side... \n",
      " SLA_days             | 16.06333333          \n",
      " case_status          | Closed               \n",
      " source_id            | svcCRMSS             \n",
      " request_address      | 10133  FIGARO CAN... \n",
      " council_district     | 4                    \n",
      "-RECORD 9------------------------------------\n",
      " case_id              | 1014127341           \n",
      " case_opened_date     | 1/1/18 6:59          \n",
      " case_closed_date     | 1/2/18 15:32         \n",
      " SLA_due_date         | 1/17/18 8:30         \n",
      " case_late            | NO                   \n",
      " num_days_late        | -14.70649306         \n",
      " case_closed          | YES                  \n",
      " dept_division        | Code Enforcement     \n",
      " service_request_type | Front Or Side Yar... \n",
      " SLA_days             | 16.0628588           \n",
      " case_status          | Closed               \n",
      " source_id            | svcCRMSS             \n",
      " request_address      | 10133  FIGARO CAN... \n",
      " council_district     | 4                    \n",
      "-RECORD 10-----------------------------------\n",
      " case_id              | 1014127342           \n",
      " case_opened_date     | 1/1/18 7:00          \n",
      " case_closed_date     | 1/2/18 15:32         \n",
      " SLA_due_date         | 1/17/18 8:30         \n",
      " case_late            | NO                   \n",
      " num_days_late        | -14.70649306         \n",
      " case_closed          | YES                  \n",
      " dept_division        | Code Enforcement     \n",
      " service_request_type | Front Or Side Yar... \n",
      " SLA_days             | 16.06237269          \n",
      " case_status          | Closed               \n",
      " source_id            | svcCRMSS             \n",
      " request_address      | 10133  FIGARO CAN... \n",
      " council_district     | 4                    \n",
      "-RECORD 11-----------------------------------\n",
      " case_id              | 1014127343           \n",
      " case_opened_date     | 1/1/18 7:02          \n",
      " case_closed_date     | 1/2/18 15:32         \n",
      " SLA_due_date         | 1/17/18 8:30         \n",
      " case_late            | NO                   \n",
      " num_days_late        | -14.70636574         \n",
      " case_closed          | YES                  \n",
      " dept_division        | Code Enforcement     \n",
      " service_request_type | Right Of Way/Side... \n",
      " SLA_days             | 16.06104167          \n",
      " case_status          | Closed               \n",
      " source_id            | svcCRMSS             \n",
      " request_address      | 10133  FIGARO CAN... \n",
      " council_district     | 4                    \n",
      "-RECORD 12-----------------------------------\n",
      " case_id              | 1014127344           \n",
      " case_opened_date     | 1/1/18 7:02          \n",
      " case_closed_date     | 1/2/18 15:33         \n",
      " SLA_due_date         | 1/17/18 8:30         \n",
      " case_late            | NO                   \n",
      " num_days_late        | -14.70625            \n",
      " case_closed          | YES                  \n",
      " dept_division        | Code Enforcement     \n",
      " service_request_type | Front Or Side Yar... \n",
      " SLA_days             | 16.06059028          \n",
      " case_status          | Closed               \n",
      " source_id            | svcCRMSS             \n",
      " request_address      | 10129  BOXING PAS... \n",
      " council_district     | 4                    \n",
      "-RECORD 13-----------------------------------\n",
      " case_id              | 1014127345           \n",
      " case_opened_date     | 1/1/18 7:03          \n",
      " case_closed_date     | 1/2/18 15:32         \n",
      " SLA_due_date         | 1/17/18 8:30         \n",
      " case_late            | NO                   \n",
      " num_days_late        | -14.70636574         \n",
      " case_closed          | YES                  \n",
      " dept_division        | Code Enforcement     \n",
      " service_request_type | Front Or Side Yar... \n",
      " SLA_days             | 16.06011574          \n",
      " case_status          | Closed               \n",
      " source_id            | svcCRMSS             \n",
      " request_address      | 10129  BOXING PAS... \n",
      " council_district     | 4                    \n",
      "-RECORD 14-----------------------------------\n",
      " case_id              | 1014127346           \n",
      " case_opened_date     | 1/1/18 7:04          \n",
      " case_closed_date     | 1/2/18 15:33         \n",
      " SLA_due_date         | 1/17/18 8:30         \n",
      " case_late            | NO                   \n",
      " num_days_late        | -14.70623843         \n",
      " case_closed          | YES                  \n",
      " dept_division        | Code Enforcement     \n",
      " service_request_type | Right Of Way/Side... \n",
      " SLA_days             | 16.05953704          \n",
      " case_status          | Closed               \n",
      " source_id            | svcCRMSS             \n",
      " request_address      | 10129  BOXING PAS... \n",
      " council_district     | 4                    \n",
      "-RECORD 15-----------------------------------\n",
      " case_id              | 1014127347           \n",
      " case_opened_date     | 1/1/18 7:04          \n",
      " case_closed_date     | 1/2/18 15:33         \n",
      " SLA_due_date         | 1/17/18 8:30         \n",
      " case_late            | NO                   \n",
      " num_days_late        | -14.705891199999998  \n",
      " case_closed          | YES                  \n",
      " dept_division        | Code Enforcement     \n",
      " service_request_type | Front Or Side Yar... \n",
      " SLA_days             | 16.05907407          \n",
      " case_status          | Closed               \n",
      " source_id            | svcCRMSS             \n",
      " request_address      | 834  BARREL POINT... \n",
      " council_district     | 4                    \n",
      "-RECORD 16-----------------------------------\n",
      " case_id              | 1014127348           \n",
      " case_opened_date     | 1/1/18 7:05          \n",
      " case_closed_date     | 1/2/18 15:33         \n",
      " SLA_due_date         | 1/17/18 8:30         \n",
      " case_late            | NO                   \n",
      " num_days_late        | -14.70600694         \n",
      " case_closed          | YES                  \n",
      " dept_division        | Code Enforcement     \n",
      " service_request_type | Front Or Side Yar... \n",
      " SLA_days             | 16.05864583          \n",
      " case_status          | Closed               \n",
      " source_id            | svcCRMSS             \n",
      " request_address      | 834  BARREL POINT... \n",
      " council_district     | 4                    \n",
      "-RECORD 17-----------------------------------\n",
      " case_id              | 1014127349           \n",
      " case_opened_date     | 1/1/18 7:06          \n",
      " case_closed_date     | 1/2/18 15:33         \n",
      " SLA_due_date         | 1/17/18 8:30         \n",
      " case_late            | NO                   \n",
      " num_days_late        | -14.70576389         \n",
      " case_closed          | YES                  \n",
      " dept_division        | Code Enforcement     \n",
      " service_request_type | Right Of Way/Side... \n",
      " SLA_days             | 16.05819444          \n",
      " case_status          | Closed               \n",
      " source_id            | svcCRMSS             \n",
      " request_address      | 834  BARREL POINT... \n",
      " council_district     | 4                    \n",
      "-RECORD 18-----------------------------------\n",
      " case_id              | 1014127350           \n",
      " case_opened_date     | 1/1/18 7:06          \n",
      " case_closed_date     | 1/2/18 15:33         \n",
      " SLA_due_date         | 1/17/18 8:30         \n",
      " case_late            | NO                   \n",
      " num_days_late        | -14.70576389         \n",
      " case_closed          | YES                  \n",
      " dept_division        | Code Enforcement     \n",
      " service_request_type | Front Or Side Yar... \n",
      " SLA_days             | 16.05775463          \n",
      " case_status          | Closed               \n",
      " source_id            | svcCRMSS             \n",
      " request_address      | 834  BARREL POINT... \n",
      " council_district     | 4                    \n",
      "-RECORD 19-----------------------------------\n",
      " case_id              | 1014127351           \n",
      " case_opened_date     | 1/1/18 7:07          \n",
      " case_closed_date     | 1/2/18 15:33         \n",
      " SLA_due_date         | 1/17/18 8:30         \n",
      " case_late            | NO                   \n",
      " num_days_late        | -14.70564815         \n",
      " case_closed          | YES                  \n",
      " dept_division        | Code Enforcement     \n",
      " service_request_type | Front Or Side Yar... \n",
      " SLA_days             | 16.05733796          \n",
      " case_status          | Closed               \n",
      " source_id            | svcCRMSS             \n",
      " request_address      | 834  BARREL POINT... \n",
      " council_district     | 4                    \n",
      "only showing top 20 rows\n",
      "\n"
     ]
    }
   ],
   "source": [
    "df1 = spark.read.csv('case.csv', header = True, inferSchema = True)\n",
    "df1.show(vertical = True)"
   ]
  },
  {
   "cell_type": "code",
   "execution_count": 4,
   "metadata": {},
   "outputs": [
    {
     "name": "stdout",
     "output_type": "stream",
     "text": [
      "-RECORD 0--------------------------------------\n",
      " dept_division          | 311 Call Center      \n",
      " dept_name              | Customer Service     \n",
      " standardized_dept_name | Customer Service     \n",
      " dept_subject_to_SLA    | YES                  \n",
      "-RECORD 1--------------------------------------\n",
      " dept_division          | Brush                \n",
      " dept_name              | Solid Waste Manag... \n",
      " standardized_dept_name | Solid Waste          \n",
      " dept_subject_to_SLA    | YES                  \n",
      "-RECORD 2--------------------------------------\n",
      " dept_division          | Clean and Green      \n",
      " dept_name              | Parks and Recreation \n",
      " standardized_dept_name | Parks & Recreation   \n",
      " dept_subject_to_SLA    | YES                  \n",
      "-RECORD 3--------------------------------------\n",
      " dept_division          | Clean and Green N... \n",
      " dept_name              | Parks and Recreation \n",
      " standardized_dept_name | Parks & Recreation   \n",
      " dept_subject_to_SLA    | YES                  \n",
      "-RECORD 4--------------------------------------\n",
      " dept_division          | Code Enforcement     \n",
      " dept_name              | Code Enforcement ... \n",
      " standardized_dept_name | DSD/Code Enforcement \n",
      " dept_subject_to_SLA    | YES                  \n",
      "-RECORD 5--------------------------------------\n",
      " dept_division          | Code Enforcement ... \n",
      " dept_name              | Code Enforcement ... \n",
      " standardized_dept_name | DSD/Code Enforcement \n",
      " dept_subject_to_SLA    | YES                  \n",
      "-RECORD 6--------------------------------------\n",
      " dept_division          | Code Enforcement ... \n",
      " dept_name              | null                 \n",
      " standardized_dept_name | DSD/Code Enforcement \n",
      " dept_subject_to_SLA    | YES                  \n",
      "-RECORD 7--------------------------------------\n",
      " dept_division          | Dangerous Premise    \n",
      " dept_name              | Code Enforcement ... \n",
      " standardized_dept_name | DSD/Code Enforcement \n",
      " dept_subject_to_SLA    | YES                  \n",
      "-RECORD 8--------------------------------------\n",
      " dept_division          | Dangerous Premise... \n",
      " dept_name              | Code Enforcement ... \n",
      " standardized_dept_name | DSD/Code Enforcement \n",
      " dept_subject_to_SLA    | YES                  \n",
      "-RECORD 9--------------------------------------\n",
      " dept_division          | Director's Office... \n",
      " dept_name              | Trans & Cap Impro... \n",
      " standardized_dept_name | Trans & Cap Impro... \n",
      " dept_subject_to_SLA    | YES                  \n",
      "-RECORD 10-------------------------------------\n",
      " dept_division          | District 1           \n",
      " dept_name              | City Council         \n",
      " standardized_dept_name | City Council         \n",
      " dept_subject_to_SLA    | NO                   \n",
      "-RECORD 11-------------------------------------\n",
      " dept_division          | District 10          \n",
      " dept_name              | City Council         \n",
      " standardized_dept_name | City Council         \n",
      " dept_subject_to_SLA    | NO                   \n",
      "-RECORD 12-------------------------------------\n",
      " dept_division          | District 2           \n",
      " dept_name              | City Council         \n",
      " standardized_dept_name | City Council         \n",
      " dept_subject_to_SLA    | NO                   \n",
      "-RECORD 13-------------------------------------\n",
      " dept_division          | District 3           \n",
      " dept_name              | City Council         \n",
      " standardized_dept_name | City Council         \n",
      " dept_subject_to_SLA    | NO                   \n",
      "-RECORD 14-------------------------------------\n",
      " dept_division          | District 6           \n",
      " dept_name              | City Council         \n",
      " standardized_dept_name | City Council         \n",
      " dept_subject_to_SLA    | NO                   \n",
      "-RECORD 15-------------------------------------\n",
      " dept_division          | District 7           \n",
      " dept_name              | City Council         \n",
      " standardized_dept_name | City Council         \n",
      " dept_subject_to_SLA    | NO                   \n",
      "-RECORD 16-------------------------------------\n",
      " dept_division          | District 8           \n",
      " dept_name              | City Council         \n",
      " standardized_dept_name | City Council         \n",
      " dept_subject_to_SLA    | NO                   \n",
      "-RECORD 17-------------------------------------\n",
      " dept_division          | District 9           \n",
      " dept_name              | City Council         \n",
      " standardized_dept_name | City Council         \n",
      " dept_subject_to_SLA    | NO                   \n",
      "-RECORD 18-------------------------------------\n",
      " dept_division          | Engineering Division \n",
      " dept_name              | Development Services \n",
      " standardized_dept_name | DSD/Code Enforcement \n",
      " dept_subject_to_SLA    | YES                  \n",
      "-RECORD 19-------------------------------------\n",
      " dept_division          | Facility License     \n",
      " dept_name              | Metro Health         \n",
      " standardized_dept_name | Metro Health         \n",
      " dept_subject_to_SLA    | YES                  \n",
      "only showing top 20 rows\n",
      "\n"
     ]
    }
   ],
   "source": [
    "df2 = spark.read.csv('dept.csv', header = True, inferSchema = True)\n",
    "df2.show(vertical = True)"
   ]
  },
  {
   "cell_type": "code",
   "execution_count": 5,
   "metadata": {},
   "outputs": [
    {
     "name": "stdout",
     "output_type": "stream",
     "text": [
      "-RECORD 0-------------------------------\n",
      " source_id       | 100137               \n",
      " source_username | Merlene Blodgett     \n",
      "-RECORD 1-------------------------------\n",
      " source_id       | 103582               \n",
      " source_username | Carmen Cura          \n",
      "-RECORD 2-------------------------------\n",
      " source_id       | 106463               \n",
      " source_username | Richard Sanchez      \n",
      "-RECORD 3-------------------------------\n",
      " source_id       | 119403               \n",
      " source_username | Betty De Hoyos       \n",
      "-RECORD 4-------------------------------\n",
      " source_id       | 119555               \n",
      " source_username | Socorro Quiara       \n",
      "-RECORD 5-------------------------------\n",
      " source_id       | 119868               \n",
      " source_username | Michelle San Miguel  \n",
      "-RECORD 6-------------------------------\n",
      " source_id       | 120752               \n",
      " source_username | Eva T. Kleiber       \n",
      "-RECORD 7-------------------------------\n",
      " source_id       | 124405               \n",
      " source_username | Lori Lara            \n",
      "-RECORD 8-------------------------------\n",
      " source_id       | 132408               \n",
      " source_username | Leonard Silva        \n",
      "-RECORD 9-------------------------------\n",
      " source_id       | 135723               \n",
      " source_username | Amy Cardenas         \n",
      "-RECORD 10------------------------------\n",
      " source_id       | 136202               \n",
      " source_username | Michelle Urrutia     \n",
      "-RECORD 11------------------------------\n",
      " source_id       | 136979               \n",
      " source_username | Leticia Garcia       \n",
      "-RECORD 12------------------------------\n",
      " source_id       | 137943               \n",
      " source_username | Pamela K. Baccus     \n",
      "-RECORD 13------------------------------\n",
      " source_id       | 138605               \n",
      " source_username | Marisa Ozuna         \n",
      "-RECORD 14------------------------------\n",
      " source_id       | 138650               \n",
      " source_username | Kimberly Green       \n",
      "-RECORD 15------------------------------\n",
      " source_id       | 138650               \n",
      " source_username | Kimberly Green-Woods \n",
      "-RECORD 16------------------------------\n",
      " source_id       | 138793               \n",
      " source_username | Guadalupe Rodriguez  \n",
      "-RECORD 17------------------------------\n",
      " source_id       | 138810               \n",
      " source_username | Tawona Martin        \n",
      "-RECORD 18------------------------------\n",
      " source_id       | 139342               \n",
      " source_username | Jessica Mendoza      \n",
      "-RECORD 19------------------------------\n",
      " source_id       | 139344               \n",
      " source_username | Isis Mendoza         \n",
      "only showing top 20 rows\n",
      "\n"
     ]
    }
   ],
   "source": [
    "df3 = spark.read.csv('source.csv', header = True, inferSchema = True)\n",
    "df3.show(vertical = True)"
   ]
  },
  {
   "cell_type": "code",
   "execution_count": 6,
   "metadata": {},
   "outputs": [],
   "source": [
    "df3.write.json(\"sources_json\", mode=\"overwrite\")"
   ]
  },
  {
   "cell_type": "code",
   "execution_count": 7,
   "metadata": {},
   "outputs": [],
   "source": [
    "df3.write.csv('sources_csv', mode = 'overwrite')"
   ]
  },
  {
   "cell_type": "code",
   "execution_count": null,
   "metadata": {},
   "outputs": [],
   "source": []
  },
  {
   "cell_type": "code",
   "execution_count": null,
   "metadata": {},
   "outputs": [],
   "source": []
  },
  {
   "cell_type": "code",
   "execution_count": 8,
   "metadata": {},
   "outputs": [
    {
     "name": "stdout",
     "output_type": "stream",
     "text": [
      "+-------+------------------+---------------+\n",
      "|summary|         source_id|source_username|\n",
      "+-------+------------------+---------------+\n",
      "|  count|               140|            140|\n",
      "|   mean|136973.92727272728|           null|\n",
      "| stddev| 10275.63643312297|           null|\n",
      "|    min|            100137|  Alex Franklin|\n",
      "|    max|           yh24110|       svcCRMSS|\n",
      "+-------+------------------+---------------+\n",
      "\n"
     ]
    }
   ],
   "source": [
    "df3.describe().show()"
   ]
  },
  {
   "cell_type": "code",
   "execution_count": 9,
   "metadata": {},
   "outputs": [
    {
     "name": "stdout",
     "output_type": "stream",
     "text": [
      "+---------+--------------------+\n",
      "|source_id|     source_username|\n",
      "+---------+--------------------+\n",
      "|   100137|    Merlene Blodgett|\n",
      "|   103582|         Carmen Cura|\n",
      "|   106463|     Richard Sanchez|\n",
      "|   119403|      Betty De Hoyos|\n",
      "|   119555|      Socorro Quiara|\n",
      "|   119868| Michelle San Miguel|\n",
      "|   120752|      Eva T. Kleiber|\n",
      "|   124405|           Lori Lara|\n",
      "|   132408|       Leonard Silva|\n",
      "|   135723|        Amy Cardenas|\n",
      "|   136202|    Michelle Urrutia|\n",
      "|   136979|      Leticia Garcia|\n",
      "|   137943|    Pamela K. Baccus|\n",
      "|   138605|        Marisa Ozuna|\n",
      "|   138650|      Kimberly Green|\n",
      "|   138650|Kimberly Green-Woods|\n",
      "|   138793| Guadalupe Rodriguez|\n",
      "|   138810|       Tawona Martin|\n",
      "|   139342|     Jessica Mendoza|\n",
      "|   139344|        Isis Mendoza|\n",
      "+---------+--------------------+\n",
      "only showing top 20 rows\n",
      "\n"
     ]
    }
   ],
   "source": [
    "df3.show()"
   ]
  },
  {
   "cell_type": "code",
   "execution_count": 10,
   "metadata": {},
   "outputs": [
    {
     "data": {
      "text/plain": [
       "DataFrame[summary: string, dept_division: string, dept_name: string, standardized_dept_name: string, dept_subject_to_SLA: string]"
      ]
     },
     "execution_count": 10,
     "metadata": {},
     "output_type": "execute_result"
    }
   ],
   "source": [
    "df2.describe()"
   ]
  },
  {
   "cell_type": "code",
   "execution_count": 11,
   "metadata": {},
   "outputs": [
    {
     "name": "stdout",
     "output_type": "stream",
     "text": [
      "+-------+----------------+--------------------+----------------------+-------------------+\n",
      "|summary|   dept_division|           dept_name|standardized_dept_name|dept_subject_to_SLA|\n",
      "+-------+----------------+--------------------+----------------------+-------------------+\n",
      "|  count|              39|                  38|                    39|                 39|\n",
      "|   mean|            null|                null|                  null|               null|\n",
      "| stddev|            null|                null|                  null|               null|\n",
      "|    min| 311 Call Center|Animal Care Services|  Animal Care Services|                 NO|\n",
      "|    max|Waste Collection|Trans & Cap Impro...|  Trans & Cap Impro...|                YES|\n",
      "+-------+----------------+--------------------+----------------------+-------------------+\n",
      "\n"
     ]
    }
   ],
   "source": [
    "df2.describe().show()"
   ]
  },
  {
   "cell_type": "code",
   "execution_count": 12,
   "metadata": {},
   "outputs": [
    {
     "data": {
      "text/plain": [
       "DataFrame[summary: string, case_id: string, case_opened_date: string, case_closed_date: string, SLA_due_date: string, case_late: string, num_days_late: string, case_closed: string, dept_division: string, service_request_type: string, SLA_days: string, case_status: string, source_id: string, request_address: string, council_district: string]"
      ]
     },
     "execution_count": 12,
     "metadata": {},
     "output_type": "execute_result"
    }
   ],
   "source": [
    "df1.describe()"
   ]
  },
  {
   "cell_type": "code",
   "execution_count": 13,
   "metadata": {},
   "outputs": [
    {
     "name": "stdout",
     "output_type": "stream",
     "text": [
      "+-------+--------------------+----------------+----------------+------------+---------+-------------------+-----------+----------------+--------------------+------------------+-----------+------------------+--------------------+-----------------+\n",
      "|summary|             case_id|case_opened_date|case_closed_date|SLA_due_date|case_late|      num_days_late|case_closed|   dept_division|service_request_type|          SLA_days|case_status|         source_id|     request_address| council_district|\n",
      "+-------+--------------------+----------------+----------------+------------+---------+-------------------+-----------+----------------+--------------------+------------------+-----------+------------------+--------------------+-----------------+\n",
      "|  count|              841704|          841704|          823594|      841671|   841704|             841671|     841704|          841704|              841704|            841671|     841704|            841704|              841704|           841704|\n",
      "|   mean|1.0139680837676392E9|            null|            null|        null|     null| -49.07486758369357|       null|            null|                null| 59.25478976660689|       null|136602.73663950132|                null|4.625168705388117|\n",
      "| stddev|  441537.91794711683|            null|            null|        null|     null| 176.53002498187325|       null|            null|                null|174.52559467491477|       null| 7232.054685284322|                null|2.756720551794847|\n",
      "|    min|          1013225542|    1/1/17 10:03|    1/1/17 10:22|1/1/17 11:02|       NO|-1417.0006019999998|         NO| 311 Call Center|\"Vacant Lot-City ...|             0.125|     Closed|            100137|0  BASSWOOD DR, S...|                0|\n",
      "|    max|          1014759620|     9/9/17 9:59|     9/9/17 9:56| 9/9/20 9:28|      YES|        519.6980787|        YES|Waste Collection|Zoning: Visual Ob...|            1420.0|       Open|           yh24110|ZURICH and AMSTERDAM|               10|\n",
      "+-------+--------------------+----------------+----------------+------------+---------+-------------------+-----------+----------------+--------------------+------------------+-----------+------------------+--------------------+-----------------+\n",
      "\n"
     ]
    }
   ],
   "source": [
    "df1.describe().show()"
   ]
  },
  {
   "cell_type": "markdown",
   "metadata": {},
   "source": [
    "#### Clean up data"
   ]
  },
  {
   "cell_type": "code",
   "execution_count": 14,
   "metadata": {},
   "outputs": [],
   "source": [
    "df1 = df1.withColumnRenamed(\"SLA_due_date\", \"case_due_date\")"
   ]
  },
  {
   "cell_type": "code",
   "execution_count": 15,
   "metadata": {},
   "outputs": [
    {
     "name": "stdout",
     "output_type": "stream",
     "text": [
      "+---------+-----------+------+\n",
      "|case_late|case_closed| count|\n",
      "+---------+-----------+------+\n",
      "|       NO|        YES|735616|\n",
      "|      YES|        YES| 87978|\n",
      "|       NO|         NO| 11585|\n",
      "|      YES|         NO|  6525|\n",
      "+---------+-----------+------+\n",
      "\n"
     ]
    }
   ],
   "source": [
    "df1.groupBy(\"case_late\", \"case_closed\").count().show()"
   ]
  },
  {
   "cell_type": "code",
   "execution_count": 16,
   "metadata": {},
   "outputs": [
    {
     "name": "stdout",
     "output_type": "stream",
     "text": [
      "+-----------+---------+\n",
      "|case_closed|case_late|\n",
      "+-----------+---------+\n",
      "|       true|    false|\n",
      "|       true|    false|\n",
      "|       true|    false|\n",
      "|       true|    false|\n",
      "|       true|     true|\n",
      "+-----------+---------+\n",
      "only showing top 5 rows\n",
      "\n"
     ]
    }
   ],
   "source": [
    "df1 = df1.withColumn(\"case_closed\", expr('case_closed == \"YES\"')).withColumn(\n",
    "    \"case_late\", expr('case_late == \"YES\"')\n",
    ")\n",
    "\n",
    "df1.select(\"case_closed\", \"case_late\").show(5)"
   ]
  },
  {
   "cell_type": "code",
   "execution_count": 17,
   "metadata": {},
   "outputs": [],
   "source": [
    "fmt = \"M/d/yy H:mm\"\n",
    "df1 = (\n",
    "    df1.withColumn(\"case_opened_date\", to_timestamp(\"case_opened_date\", fmt))\n",
    "    .withColumn(\"case_closed_date\", to_timestamp(\"case_closed_date\", fmt))\n",
    "    .withColumn(\"case_due_date\", to_timestamp(\"case_due_date\", fmt)))"
   ]
  },
  {
   "cell_type": "code",
   "execution_count": 18,
   "metadata": {},
   "outputs": [
    {
     "data": {
      "text/plain": [
       "DataFrame[case_opened_date: timestamp, case_closed_date: timestamp, case_due_date: timestamp]"
      ]
     },
     "execution_count": 18,
     "metadata": {},
     "output_type": "execute_result"
    }
   ],
   "source": [
    "df1.select(\"case_opened_date\", \"case_closed_date\", \"case_due_date\")"
   ]
  },
  {
   "cell_type": "code",
   "execution_count": 24,
   "metadata": {},
   "outputs": [
    {
     "name": "stdout",
     "output_type": "stream",
     "text": [
      "+--------------------+\n",
      "|     request_address|\n",
      "+--------------------+\n",
      "|2315  el paso st,...|\n",
      "|2215  goliad rd, ...|\n",
      "|102  palfrey st w...|\n",
      "|114  la garde st,...|\n",
      "|734  clearview dr...|\n",
      "+--------------------+\n",
      "only showing top 5 rows\n",
      "\n"
     ]
    }
   ],
   "source": [
    "df1 = df1.withColumn(\"request_address\", trim(lower(df1.request_address)))\n",
    "\n",
    "df1.select(\"request_address\").show(5)"
   ]
  },
  {
   "cell_type": "code",
   "execution_count": 33,
   "metadata": {},
   "outputs": [],
   "source": [
    "df1 = df1.withColumn('num_days_late', col('num_days_late').cast('int'))"
   ]
  },
  {
   "cell_type": "code",
   "execution_count": 35,
   "metadata": {},
   "outputs": [],
   "source": [
    "df1 = df1.withColumn('SLA_days', col('SLA_days').cast('int'))"
   ]
  },
  {
   "cell_type": "markdown",
   "metadata": {},
   "source": [
    "How old is the latest (in terms of days past SLA) currently open issue? How long has the oldest (in terms of days since opened) currently opened issue been open?"
   ]
  },
  {
   "cell_type": "code",
   "execution_count": 36,
   "metadata": {},
   "outputs": [
    {
     "name": "stdout",
     "output_type": "stream",
     "text": [
      "-RECORD 0------------------------------------\n",
      " case_id              | 1014127332           \n",
      " case_opened_date     | 2018-01-01 00:42:00  \n",
      " case_closed_date     | 2018-01-01 12:29:00  \n",
      " case_due_date        | 2020-09-26 00:42:00  \n",
      " case_late            | false                \n",
      " num_days_late        | -998                 \n",
      " case_closed          | true                 \n",
      " dept_division        | Field Operations     \n",
      " service_request_type | Stray Animal         \n",
      " SLA_days             | 999                  \n",
      " case_status          | Closed               \n",
      " source_id            | svcCRMLS             \n",
      " request_address      | 2315  el paso st,... \n",
      " council_district     | 5                    \n",
      "-RECORD 1------------------------------------\n",
      " case_id              | 1014127333           \n",
      " case_opened_date     | 2018-01-01 00:46:00  \n",
      " case_closed_date     | 2018-01-03 08:11:00  \n",
      " case_due_date        | 2018-01-05 08:30:00  \n",
      " case_late            | false                \n",
      " num_days_late        | -2                   \n",
      " case_closed          | true                 \n",
      " dept_division        | Storm Water          \n",
      " service_request_type | Removal Of Obstru... \n",
      " SLA_days             | 4                    \n",
      " case_status          | Closed               \n",
      " source_id            | svcCRMSS             \n",
      " request_address      | 2215  goliad rd, ... \n",
      " council_district     | 3                    \n",
      "-RECORD 2------------------------------------\n",
      " case_id              | 1014127334           \n",
      " case_opened_date     | 2018-01-01 00:48:00  \n",
      " case_closed_date     | 2018-01-02 07:57:00  \n",
      " case_due_date        | 2018-01-05 08:30:00  \n",
      " case_late            | false                \n",
      " num_days_late        | -3                   \n",
      " case_closed          | true                 \n",
      " dept_division        | Storm Water          \n",
      " service_request_type | Removal Of Obstru... \n",
      " SLA_days             | 4                    \n",
      " case_status          | Closed               \n",
      " source_id            | svcCRMSS             \n",
      " request_address      | 102  palfrey st w... \n",
      " council_district     | 3                    \n",
      "-RECORD 3------------------------------------\n",
      " case_id              | 1014127335           \n",
      " case_opened_date     | 2018-01-01 01:29:00  \n",
      " case_closed_date     | 2018-01-02 08:13:00  \n",
      " case_due_date        | 2018-01-17 08:30:00  \n",
      " case_late            | false                \n",
      " num_days_late        | -15                  \n",
      " case_closed          | true                 \n",
      " dept_division        | Code Enforcement     \n",
      " service_request_type | Front Or Side Yar... \n",
      " SLA_days             | 16                   \n",
      " case_status          | Closed               \n",
      " source_id            | svcCRMSS             \n",
      " request_address      | 114  la garde st,... \n",
      " council_district     | 3                    \n",
      "-RECORD 4------------------------------------\n",
      " case_id              | 1014127336           \n",
      " case_opened_date     | 2018-01-01 01:34:00  \n",
      " case_closed_date     | 2018-01-01 13:29:00  \n",
      " case_due_date        | 2018-01-01 04:34:00  \n",
      " case_late            | true                 \n",
      " num_days_late        | 0                    \n",
      " case_closed          | true                 \n",
      " dept_division        | Field Operations     \n",
      " service_request_type | Animal Cruelty(Cr... \n",
      " SLA_days             | 0                    \n",
      " case_status          | Closed               \n",
      " source_id            | svcCRMSS             \n",
      " request_address      | 734  clearview dr... \n",
      " council_district     | 7                    \n",
      "-RECORD 5------------------------------------\n",
      " case_id              | 1014127337           \n",
      " case_opened_date     | 2018-01-01 06:28:00  \n",
      " case_closed_date     | 2018-01-01 14:38:00  \n",
      " case_due_date        | 2018-01-31 08:30:00  \n",
      " case_late            | false                \n",
      " num_days_late        | -29                  \n",
      " case_closed          | true                 \n",
      " dept_division        | Signals              \n",
      " service_request_type | Traffic Signal Op... \n",
      " SLA_days             | 30                   \n",
      " case_status          | Closed               \n",
      " source_id            | svcCRMSS             \n",
      " request_address      | bandera rd and br... \n",
      " council_district     | 7                    \n",
      "-RECORD 6------------------------------------\n",
      " case_id              | 1014127338           \n",
      " case_opened_date     | 2018-01-01 06:57:00  \n",
      " case_closed_date     | 2018-01-02 15:32:00  \n",
      " case_due_date        | 2018-01-17 08:30:00  \n",
      " case_late            | false                \n",
      " num_days_late        | -14                  \n",
      " case_closed          | true                 \n",
      " dept_division        | Code Enforcement     \n",
      " service_request_type | Front Or Side Yar... \n",
      " SLA_days             | 16                   \n",
      " case_status          | Closed               \n",
      " source_id            | svcCRMSS             \n",
      " request_address      | 10133  figaro can... \n",
      " council_district     | 4                    \n",
      "-RECORD 7------------------------------------\n",
      " case_id              | 1014127339           \n",
      " case_opened_date     | 2018-01-01 06:58:00  \n",
      " case_closed_date     | 2018-01-02 15:32:00  \n",
      " case_due_date        | 2018-01-17 08:30:00  \n",
      " case_late            | false                \n",
      " num_days_late        | -14                  \n",
      " case_closed          | true                 \n",
      " dept_division        | Code Enforcement     \n",
      " service_request_type | Front Or Side Yar... \n",
      " SLA_days             | 16                   \n",
      " case_status          | Closed               \n",
      " source_id            | svcCRMSS             \n",
      " request_address      | 10133  figaro can... \n",
      " council_district     | 4                    \n",
      "-RECORD 8------------------------------------\n",
      " case_id              | 1014127340           \n",
      " case_opened_date     | 2018-01-01 06:58:00  \n",
      " case_closed_date     | 2018-01-02 15:32:00  \n",
      " case_due_date        | 2018-01-17 08:30:00  \n",
      " case_late            | false                \n",
      " num_days_late        | -14                  \n",
      " case_closed          | true                 \n",
      " dept_division        | Code Enforcement     \n",
      " service_request_type | Right Of Way/Side... \n",
      " SLA_days             | 16                   \n",
      " case_status          | Closed               \n",
      " source_id            | svcCRMSS             \n",
      " request_address      | 10133  figaro can... \n",
      " council_district     | 4                    \n",
      "-RECORD 9------------------------------------\n",
      " case_id              | 1014127341           \n",
      " case_opened_date     | 2018-01-01 06:59:00  \n",
      " case_closed_date     | 2018-01-02 15:32:00  \n",
      " case_due_date        | 2018-01-17 08:30:00  \n",
      " case_late            | false                \n",
      " num_days_late        | -14                  \n",
      " case_closed          | true                 \n",
      " dept_division        | Code Enforcement     \n",
      " service_request_type | Front Or Side Yar... \n",
      " SLA_days             | 16                   \n",
      " case_status          | Closed               \n",
      " source_id            | svcCRMSS             \n",
      " request_address      | 10133  figaro can... \n",
      " council_district     | 4                    \n",
      "-RECORD 10-----------------------------------\n",
      " case_id              | 1014127342           \n",
      " case_opened_date     | 2018-01-01 07:00:00  \n",
      " case_closed_date     | 2018-01-02 15:32:00  \n",
      " case_due_date        | 2018-01-17 08:30:00  \n",
      " case_late            | false                \n",
      " num_days_late        | -14                  \n",
      " case_closed          | true                 \n",
      " dept_division        | Code Enforcement     \n",
      " service_request_type | Front Or Side Yar... \n",
      " SLA_days             | 16                   \n",
      " case_status          | Closed               \n",
      " source_id            | svcCRMSS             \n",
      " request_address      | 10133  figaro can... \n",
      " council_district     | 4                    \n",
      "-RECORD 11-----------------------------------\n",
      " case_id              | 1014127343           \n",
      " case_opened_date     | 2018-01-01 07:02:00  \n",
      " case_closed_date     | 2018-01-02 15:32:00  \n",
      " case_due_date        | 2018-01-17 08:30:00  \n",
      " case_late            | false                \n",
      " num_days_late        | -14                  \n",
      " case_closed          | true                 \n",
      " dept_division        | Code Enforcement     \n",
      " service_request_type | Right Of Way/Side... \n",
      " SLA_days             | 16                   \n",
      " case_status          | Closed               \n",
      " source_id            | svcCRMSS             \n",
      " request_address      | 10133  figaro can... \n",
      " council_district     | 4                    \n",
      "-RECORD 12-----------------------------------\n",
      " case_id              | 1014127344           \n",
      " case_opened_date     | 2018-01-01 07:02:00  \n",
      " case_closed_date     | 2018-01-02 15:33:00  \n",
      " case_due_date        | 2018-01-17 08:30:00  \n",
      " case_late            | false                \n",
      " num_days_late        | -14                  \n",
      " case_closed          | true                 \n",
      " dept_division        | Code Enforcement     \n",
      " service_request_type | Front Or Side Yar... \n",
      " SLA_days             | 16                   \n",
      " case_status          | Closed               \n",
      " source_id            | svcCRMSS             \n",
      " request_address      | 10129  boxing pas... \n",
      " council_district     | 4                    \n",
      "-RECORD 13-----------------------------------\n",
      " case_id              | 1014127345           \n",
      " case_opened_date     | 2018-01-01 07:03:00  \n",
      " case_closed_date     | 2018-01-02 15:32:00  \n",
      " case_due_date        | 2018-01-17 08:30:00  \n",
      " case_late            | false                \n",
      " num_days_late        | -14                  \n",
      " case_closed          | true                 \n",
      " dept_division        | Code Enforcement     \n",
      " service_request_type | Front Or Side Yar... \n",
      " SLA_days             | 16                   \n",
      " case_status          | Closed               \n",
      " source_id            | svcCRMSS             \n",
      " request_address      | 10129  boxing pas... \n",
      " council_district     | 4                    \n",
      "-RECORD 14-----------------------------------\n",
      " case_id              | 1014127346           \n",
      " case_opened_date     | 2018-01-01 07:04:00  \n",
      " case_closed_date     | 2018-01-02 15:33:00  \n",
      " case_due_date        | 2018-01-17 08:30:00  \n",
      " case_late            | false                \n",
      " num_days_late        | -14                  \n",
      " case_closed          | true                 \n",
      " dept_division        | Code Enforcement     \n",
      " service_request_type | Right Of Way/Side... \n",
      " SLA_days             | 16                   \n",
      " case_status          | Closed               \n",
      " source_id            | svcCRMSS             \n",
      " request_address      | 10129  boxing pas... \n",
      " council_district     | 4                    \n",
      "-RECORD 15-----------------------------------\n",
      " case_id              | 1014127347           \n",
      " case_opened_date     | 2018-01-01 07:04:00  \n",
      " case_closed_date     | 2018-01-02 15:33:00  \n",
      " case_due_date        | 2018-01-17 08:30:00  \n",
      " case_late            | false                \n",
      " num_days_late        | -14                  \n",
      " case_closed          | true                 \n",
      " dept_division        | Code Enforcement     \n",
      " service_request_type | Front Or Side Yar... \n",
      " SLA_days             | 16                   \n",
      " case_status          | Closed               \n",
      " source_id            | svcCRMSS             \n",
      " request_address      | 834  barrel point... \n",
      " council_district     | 4                    \n",
      "-RECORD 16-----------------------------------\n",
      " case_id              | 1014127348           \n",
      " case_opened_date     | 2018-01-01 07:05:00  \n",
      " case_closed_date     | 2018-01-02 15:33:00  \n",
      " case_due_date        | 2018-01-17 08:30:00  \n",
      " case_late            | false                \n",
      " num_days_late        | -14                  \n",
      " case_closed          | true                 \n",
      " dept_division        | Code Enforcement     \n",
      " service_request_type | Front Or Side Yar... \n",
      " SLA_days             | 16                   \n",
      " case_status          | Closed               \n",
      " source_id            | svcCRMSS             \n",
      " request_address      | 834  barrel point... \n",
      " council_district     | 4                    \n",
      "-RECORD 17-----------------------------------\n",
      " case_id              | 1014127349           \n",
      " case_opened_date     | 2018-01-01 07:06:00  \n",
      " case_closed_date     | 2018-01-02 15:33:00  \n",
      " case_due_date        | 2018-01-17 08:30:00  \n",
      " case_late            | false                \n",
      " num_days_late        | -14                  \n",
      " case_closed          | true                 \n",
      " dept_division        | Code Enforcement     \n",
      " service_request_type | Right Of Way/Side... \n",
      " SLA_days             | 16                   \n",
      " case_status          | Closed               \n",
      " source_id            | svcCRMSS             \n",
      " request_address      | 834  barrel point... \n",
      " council_district     | 4                    \n",
      "-RECORD 18-----------------------------------\n",
      " case_id              | 1014127350           \n",
      " case_opened_date     | 2018-01-01 07:06:00  \n",
      " case_closed_date     | 2018-01-02 15:33:00  \n",
      " case_due_date        | 2018-01-17 08:30:00  \n",
      " case_late            | false                \n",
      " num_days_late        | -14                  \n",
      " case_closed          | true                 \n",
      " dept_division        | Code Enforcement     \n",
      " service_request_type | Front Or Side Yar... \n",
      " SLA_days             | 16                   \n",
      " case_status          | Closed               \n",
      " source_id            | svcCRMSS             \n",
      " request_address      | 834  barrel point... \n",
      " council_district     | 4                    \n",
      "-RECORD 19-----------------------------------\n",
      " case_id              | 1014127351           \n",
      " case_opened_date     | 2018-01-01 07:07:00  \n",
      " case_closed_date     | 2018-01-02 15:33:00  \n",
      " case_due_date        | 2018-01-17 08:30:00  \n",
      " case_late            | false                \n",
      " num_days_late        | -14                  \n",
      " case_closed          | true                 \n",
      " dept_division        | Code Enforcement     \n",
      " service_request_type | Front Or Side Yar... \n",
      " SLA_days             | 16                   \n",
      " case_status          | Closed               \n",
      " source_id            | svcCRMSS             \n",
      " request_address      | 834  barrel point... \n",
      " council_district     | 4                    \n",
      "only showing top 20 rows\n",
      "\n"
     ]
    }
   ],
   "source": [
    "df1.show(vertical = True)"
   ]
  },
  {
   "cell_type": "code",
   "execution_count": 48,
   "metadata": {},
   "outputs": [
    {
     "name": "stdout",
     "output_type": "stream",
     "text": [
      "+----------+-------------------+----------------+-------------------+---------+-------------+-----------+----------------+--------------------+--------+-----------+------------+--------------------+----------------+\n",
      "|   case_id|   case_opened_date|case_closed_date|      case_due_date|case_late|num_days_late|case_closed|   dept_division|service_request_type|SLA_days|case_status|   source_id|     request_address|council_district|\n",
      "+----------+-------------------+----------------+-------------------+---------+-------------+-----------+----------------+--------------------+--------+-----------+------------+--------------------+----------------+\n",
      "|1013226813|2017-01-02 11:26:00|            null|2017-01-17 11:26:00|     true|          348|      false|Code Enforcement|   No Address Posted|      15|       Open|    svcCRMSS|highfield and mil...|               6|\n",
      "|1013225651|2017-01-01 13:57:00|            null|2017-01-17 08:30:00|     true|          348|      false|Code Enforcement|   No Address Posted|      15|       Open|    svcCRMSS|7295  shadow ridg...|               6|\n",
      "|1013225646|2017-01-01 13:48:00|            null|2017-01-17 08:30:00|     true|          348|      false|Code Enforcement|   No Address Posted|      15|       Open|    svcCRMSS|7299  shadow ridg...|               6|\n",
      "|1013229328|2017-01-03 10:01:00|            null|2017-01-18 10:01:00|     true|          347|      false|Code Enforcement|        Bandit Signs|      15|       Open|CRM_Listener|203  coleman, san...|               2|\n",
      "|1013236238|2017-01-05 14:39:00|            null|2017-01-20 14:39:00|     true|          345|      false|Code Enforcement|        Bandit Signs|      15|       Open|      135723|lockhill selma an...|               9|\n",
      "|1013257313|2017-01-14 10:54:00|            null|2017-01-24 08:30:00|     true|          341|      false| 311 Call Center|           Complaint|       9|       Open|     ss21394|7202  northbluff ...|               6|\n",
      "|1013263418|2017-01-17 14:23:00|            null|2017-01-24 14:23:00|     true|          341|      false| 311 Call Center|           Complaint|       7|       Open|     yc16753|24th st sw and co...|               5|\n",
      "|1013245251|2017-01-10 09:24:00|            null|2017-01-25 09:24:00|     true|          340|      false|Code Enforcement|   No Address Posted|      15|       Open|CRM_Listener|111  sabyan dr, s...|               2|\n",
      "|1013247888|2017-01-10 18:31:00|            null|2017-01-26 08:30:00|     true|          339|      false|Code Enforcement|        Bandit Signs|      15|       Open|      138793|champions hill an...|              10|\n",
      "|1013249877|2017-01-11 14:50:00|            null|2017-01-26 14:50:00|     true|          339|      false|Code Enforcement|  Zoning: Junk Yards|      15|       Open|CRM_Listener|1027  zarzamora n...|               1|\n",
      "|1013256068|2017-01-13 14:41:00|            null|2017-01-30 14:41:00|     true|          335|      false|Code Enforcement|        Bandit Signs|      17|       Open|     DS15677|heath circle and ...|               6|\n",
      "|1013260804|2017-01-16 16:35:00|            null|2017-01-31 08:30:00|     true|          334|      false|Code Enforcement|        Bandit Signs|      14|       Open|      119555|lockhill selma an...|               9|\n",
      "|1013257022|2017-01-14 08:44:00|            null|2017-01-31 08:30:00|     true|          334|      false|Code Enforcement|        Bandit Signs|      16|       Open|     ss21394|10000  military h...|               9|\n",
      "|1013261951|2017-01-17 10:18:00|            null|2017-01-31 10:18:00|     true|          334|      false|Code Enforcement|  Zoning: Junk Yards|      14|       Open|CRM_Listener|9517  new laredo ...|               4|\n",
      "|1013289927|2017-01-27 09:38:00|            null|2017-02-03 09:38:00|     true|          331|      false| 311 Call Center|           Complaint|       7|       Open|      138810|5102  old pearsal...|               4|\n",
      "|1013289892|2017-01-27 09:29:00|            null|2017-02-03 09:29:00|     true|          331|      false| 311 Call Center|           Complaint|       7|       Open|      140508|2407  wyoming st,...|               2|\n",
      "|1013285092|2017-01-25 13:26:00|            null|2017-02-08 13:26:00|     true|          326|      false|Code Enforcement|        Bandit Signs|      14|       Open|     ns16326|brookport and tim...|               7|\n",
      "|1013285284|2017-01-25 14:05:00|            null|2017-02-08 14:05:00|     true|          326|      false|Code Enforcement|        Bandit Signs|      14|       Open|      139342|blanco rd and wur...|               9|\n",
      "|1013287773|2017-01-26 12:47:00|            null|2017-02-09 12:47:00|     true|          325|      false|Code Enforcement|        Bandit Signs|      14|       Open|     NO10960|hardy oak blvd an...|               9|\n",
      "|1013288562|2017-01-26 15:10:00|            null|2017-02-09 15:10:00|     true|          325|      false|Code Enforcement|        Bandit Signs|      14|       Open|      135723|astronaut and nac...|              10|\n",
      "+----------+-------------------+----------------+-------------------+---------+-------------+-----------+----------------+--------------------+--------+-----------+------------+--------------------+----------------+\n",
      "only showing top 20 rows\n",
      "\n"
     ]
    }
   ],
   "source": [
    "recent = df1.filter(df1.case_status == 'Open').sort(desc('num_days_late')).show()"
   ]
  },
  {
   "cell_type": "code",
   "execution_count": 50,
   "metadata": {},
   "outputs": [
    {
     "data": {
      "text/plain": [
       "[('case_id', 'int'),\n",
       " ('case_opened_date', 'timestamp'),\n",
       " ('case_closed_date', 'timestamp'),\n",
       " ('case_due_date', 'timestamp'),\n",
       " ('case_late', 'boolean'),\n",
       " ('num_days_late', 'int'),\n",
       " ('case_closed', 'boolean'),\n",
       " ('dept_division', 'string'),\n",
       " ('service_request_type', 'string'),\n",
       " ('SLA_days', 'int'),\n",
       " ('case_status', 'string'),\n",
       " ('source_id', 'string'),\n",
       " ('request_address', 'string'),\n",
       " ('council_district', 'int')]"
      ]
     },
     "execution_count": 50,
     "metadata": {},
     "output_type": "execute_result"
    }
   ],
   "source": [
    "df1.dtypes"
   ]
  },
  {
   "cell_type": "code",
   "execution_count": 54,
   "metadata": {},
   "outputs": [
    {
     "name": "stdout",
     "output_type": "stream",
     "text": [
      "root\n",
      " |-- case_id: integer (nullable = true)\n",
      " |-- case_opened_date: timestamp (nullable = true)\n",
      " |-- case_closed_date: timestamp (nullable = true)\n",
      " |-- case_due_date: timestamp (nullable = true)\n",
      " |-- case_late: boolean (nullable = true)\n",
      " |-- num_days_late: integer (nullable = true)\n",
      " |-- case_closed: boolean (nullable = true)\n",
      " |-- dept_division: string (nullable = true)\n",
      " |-- service_request_type: string (nullable = true)\n",
      " |-- SLA_days: integer (nullable = true)\n",
      " |-- case_status: string (nullable = true)\n",
      " |-- source_id: string (nullable = true)\n",
      " |-- request_address: string (nullable = true)\n",
      " |-- council_district: integer (nullable = true)\n",
      "\n"
     ]
    }
   ],
   "source": [
    "df1.printSchema()"
   ]
  },
  {
   "cell_type": "markdown",
   "metadata": {},
   "source": [
    "How many Stray Animal cases are there?"
   ]
  },
  {
   "cell_type": "code",
   "execution_count": 57,
   "metadata": {},
   "outputs": [
    {
     "data": {
      "text/plain": [
       "26760"
      ]
     },
     "execution_count": 57,
     "metadata": {},
     "output_type": "execute_result"
    }
   ],
   "source": [
    "df1.filter(df1.service_request_type == 'Stray Animal').count()"
   ]
  },
  {
   "cell_type": "markdown",
   "metadata": {},
   "source": [
    "How many service requests that are assigned to the Field Operations department (dept_division) are not classified as \"Officer Standby\" request type (service_request_type)?"
   ]
  },
  {
   "cell_type": "code",
   "execution_count": 58,
   "metadata": {},
   "outputs": [
    {
     "data": {
      "text/plain": [
       "113902"
      ]
     },
     "execution_count": 58,
     "metadata": {},
     "output_type": "execute_result"
    }
   ],
   "source": [
    "df1.filter(df1.dept_division == 'Field Operations').where(df1.service_request_type != 'Officer Standby').count()"
   ]
  },
  {
   "cell_type": "markdown",
   "metadata": {},
   "source": [
    "Convert the council_district column to a string column."
   ]
  },
  {
   "cell_type": "code",
   "execution_count": 60,
   "metadata": {},
   "outputs": [],
   "source": [
    "df1 = df1.withColumn('council_district', col('council_district').cast('string'))"
   ]
  },
  {
   "cell_type": "code",
   "execution_count": 61,
   "metadata": {},
   "outputs": [
    {
     "name": "stdout",
     "output_type": "stream",
     "text": [
      "root\n",
      " |-- case_id: integer (nullable = true)\n",
      " |-- case_opened_date: timestamp (nullable = true)\n",
      " |-- case_closed_date: timestamp (nullable = true)\n",
      " |-- case_due_date: timestamp (nullable = true)\n",
      " |-- case_late: boolean (nullable = true)\n",
      " |-- num_days_late: integer (nullable = true)\n",
      " |-- case_closed: boolean (nullable = true)\n",
      " |-- dept_division: string (nullable = true)\n",
      " |-- service_request_type: string (nullable = true)\n",
      " |-- SLA_days: integer (nullable = true)\n",
      " |-- case_status: string (nullable = true)\n",
      " |-- source_id: string (nullable = true)\n",
      " |-- request_address: string (nullable = true)\n",
      " |-- council_district: string (nullable = true)\n",
      "\n"
     ]
    }
   ],
   "source": [
    "df1.printSchema()"
   ]
  },
  {
   "cell_type": "markdown",
   "metadata": {},
   "source": [
    "Extract the year from the case_closed_date column."
   ]
  },
  {
   "cell_type": "code",
   "execution_count": null,
   "metadata": {},
   "outputs": [],
   "source": [
    "df1 = df1.withColumn('case_closed_date', regex_extract())"
   ]
  },
  {
   "cell_type": "code",
   "execution_count": 66,
   "metadata": {},
   "outputs": [
    {
     "name": "stdout",
     "output_type": "stream",
     "text": [
      "+-------------------+\n",
      "|   case_closed_date|\n",
      "+-------------------+\n",
      "|2018-01-01 12:29:00|\n",
      "|2018-01-03 08:11:00|\n",
      "|2018-01-02 07:57:00|\n",
      "|2018-01-02 08:13:00|\n",
      "|2018-01-01 13:29:00|\n",
      "|2018-01-01 14:38:00|\n",
      "|2018-01-02 15:32:00|\n",
      "|2018-01-02 15:32:00|\n",
      "|2018-01-02 15:32:00|\n",
      "|2018-01-02 15:32:00|\n",
      "|2018-01-02 15:32:00|\n",
      "|2018-01-02 15:32:00|\n",
      "|2018-01-02 15:33:00|\n",
      "|2018-01-02 15:32:00|\n",
      "|2018-01-02 15:33:00|\n",
      "|2018-01-02 15:33:00|\n",
      "|2018-01-02 15:33:00|\n",
      "|2018-01-02 15:33:00|\n",
      "|2018-01-02 15:33:00|\n",
      "|2018-01-02 15:33:00|\n",
      "+-------------------+\n",
      "only showing top 20 rows\n",
      "\n"
     ]
    }
   ],
   "source": [
    "df1.select('case_closed_date').show()"
   ]
  },
  {
   "cell_type": "code",
   "execution_count": 69,
   "metadata": {},
   "outputs": [
    {
     "name": "stdout",
     "output_type": "stream",
     "text": [
      "+----------------------+\n",
      "|year(case_closed_date)|\n",
      "+----------------------+\n",
      "|                  2018|\n",
      "|                  2018|\n",
      "|                  2018|\n",
      "|                  2018|\n",
      "|                  2018|\n",
      "|                  2018|\n",
      "|                  2018|\n",
      "|                  2018|\n",
      "|                  2018|\n",
      "|                  2018|\n",
      "|                  2018|\n",
      "|                  2018|\n",
      "|                  2018|\n",
      "|                  2018|\n",
      "|                  2018|\n",
      "|                  2018|\n",
      "|                  2018|\n",
      "|                  2018|\n",
      "|                  2018|\n",
      "|                  2018|\n",
      "+----------------------+\n",
      "only showing top 20 rows\n",
      "\n"
     ]
    }
   ],
   "source": [
    "df1.select(year(\"case_closed_date\")).show()"
   ]
  },
  {
   "cell_type": "markdown",
   "metadata": {},
   "source": [
    "Convert num_days_late from days to hours in new columns num_hours_late."
   ]
  },
  {
   "cell_type": "code",
   "execution_count": 70,
   "metadata": {},
   "outputs": [
    {
     "ename": "TypeError",
     "evalue": "withColumn() missing 1 required positional argument: 'col'",
     "output_type": "error",
     "traceback": [
      "\u001b[0;31m---------------------------------------------------------------------------\u001b[0m",
      "\u001b[0;31mTypeError\u001b[0m                                 Traceback (most recent call last)",
      "\u001b[0;32m<ipython-input-70-3295ac95530a>\u001b[0m in \u001b[0;36m<module>\u001b[0;34m\u001b[0m\n\u001b[0;32m----> 1\u001b[0;31m \u001b[0mdf1\u001b[0m \u001b[0;34m=\u001b[0m \u001b[0;34m(\u001b[0m\u001b[0mdf1\u001b[0m\u001b[0;34m.\u001b[0m\u001b[0mwithColumn\u001b[0m\u001b[0;34m(\u001b[0m\u001b[0;34m'num_hours_late'\u001b[0m\u001b[0;34m)\u001b[0m\u001b[0;34m,\u001b[0m \u001b[0mexpr\u001b[0m\u001b[0;34m(\u001b[0m\u001b[0;34m'num_days_late * 24'\u001b[0m\u001b[0;34m)\u001b[0m\u001b[0;34m)\u001b[0m\u001b[0;34m.\u001b[0m\u001b[0mshow\u001b[0m\u001b[0;34m(\u001b[0m\u001b[0;34m)\u001b[0m\u001b[0;34m\u001b[0m\u001b[0;34m\u001b[0m\u001b[0m\n\u001b[0m",
      "\u001b[0;31mTypeError\u001b[0m: withColumn() missing 1 required positional argument: 'col'"
     ]
    }
   ],
   "source": [
    "df1 = (df1.withColumn('num_hours_late'), expr('num_days_late * 24')).show()"
   ]
  },
  {
   "cell_type": "code",
   "execution_count": null,
   "metadata": {},
   "outputs": [],
   "source": [
    "df = df.withColumn(\n",
    "    \"num_weeks_late\", expr(\"num_days_late / 7 AS num_weeks_late\")\n",
    ")"
   ]
  }
 ],
 "metadata": {
  "kernelspec": {
   "display_name": "Python 3",
   "language": "python",
   "name": "python3"
  },
  "language_info": {
   "codemirror_mode": {
    "name": "ipython",
    "version": 3
   },
   "file_extension": ".py",
   "mimetype": "text/x-python",
   "name": "python",
   "nbconvert_exporter": "python",
   "pygments_lexer": "ipython3",
   "version": "3.7.3"
  }
 },
 "nbformat": 4,
 "nbformat_minor": 2
}
